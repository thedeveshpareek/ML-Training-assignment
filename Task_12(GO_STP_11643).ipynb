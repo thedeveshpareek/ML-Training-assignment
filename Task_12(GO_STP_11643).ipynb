{
  "nbformat": 4,
  "nbformat_minor": 0,
  "metadata": {
    "colab": {
      "name": "Task 12(GO_STP_11643).ipynb",
      "provenance": [],
      "collapsed_sections": [],
      "include_colab_link": true
    },
    "kernelspec": {
      "name": "python3",
      "display_name": "Python 3"
    },
    "language_info": {
      "name": "python"
    }
  },
  "cells": [
    {
      "cell_type": "markdown",
      "metadata": {
        "id": "view-in-github",
        "colab_type": "text"
      },
      "source": [
        "<a href=\"https://colab.research.google.com/github/thedeveshpareek/ML-Training-assignment/blob/main/Task_12(GO_STP_11643).ipynb\" target=\"_parent\"><img src=\"https://colab.research.google.com/assets/colab-badge.svg\" alt=\"Open In Colab\"/></a>"
      ]
    },
    {
      "cell_type": "markdown",
      "metadata": {
        "id": "c_-_z5VoHf0m"
      },
      "source": [
        "#devesh pareek\n",
        "\n",
        "#Task 12\n",
        "\n",
        "#GO_STP_8589"
      ]
    },
    {
      "cell_type": "markdown",
      "metadata": {
        "id": "7mPz71gSHjeS"
      },
      "source": [
        "Train SVM classifier using sklearn digits dataset (i.e. from sklearn.datasets import load_digits) and then,\n",
        "\n",
        "1. Measure accuracy of your model using different kernels such as rbf and linear.\n",
        "\n",
        "2. Tune your model further using regularization and gamma parameters and try to come up with highest accurancy score\n",
        "\n",
        "3. Use 80% of samples as training data size"
      ]
    },
    {
      "cell_type": "code",
      "metadata": {
        "id": "Td85s4NnuJmW"
      },
      "source": [
        "import pandas as pd\n",
        "import numpy as np\n",
        "import matplotlib.pyplot as plt \n",
        "import sklearn"
      ],
      "execution_count": null,
      "outputs": []
    },
    {
      "cell_type": "code",
      "metadata": {
        "id": "a8dAlB15usC1"
      },
      "source": [
        "from sklearn.datasets import load_digits"
      ],
      "execution_count": null,
      "outputs": []
    },
    {
      "cell_type": "code",
      "metadata": {
        "id": "b3iuMDHgvFtI"
      },
      "source": [
        "digits = load_digits()"
      ],
      "execution_count": null,
      "outputs": []
    },
    {
      "cell_type": "code",
      "metadata": {
        "id": "7popJjA8vNhD"
      },
      "source": [
        "digits "
      ],
      "execution_count": null,
      "outputs": []
    },
    {
      "cell_type": "code",
      "metadata": {
        "colab": {
          "base_uri": "https://localhost:8080/"
        },
        "id": "574HMyzTvhsf",
        "outputId": "59e5c758-79ef-4d1d-e17d-ee35a19a722c"
      },
      "source": [
        "print(digits.data.shape)"
      ],
      "execution_count": null,
      "outputs": [
        {
          "output_type": "stream",
          "text": [
            "(1797, 64)\n"
          ],
          "name": "stdout"
        }
      ]
    },
    {
      "cell_type": "code",
      "metadata": {
        "colab": {
          "base_uri": "https://localhost:8080/",
          "height": 275
        },
        "id": "ZjjgSNMlznoI",
        "outputId": "f12ead04-7625-410d-a156-6c3fe583991a"
      },
      "source": [
        "plt.matshow(digits.images[5]) "
      ],
      "execution_count": null,
      "outputs": [
        {
          "output_type": "display_data",
          "data": {
            "image/png": "[encoded data removed]",
            "text/plain": [
              "<Figure size 288x288 with 1 Axes>"
            ]
          },
          "metadata": {
            "tags": [],
            "needs_background": "light"
          }
        }
      ]
    },
    {
      "cell_type": "code",
      "metadata": {
        "colab": {
          "base_uri": "https://localhost:8080/",
          "height": 466
        },
        "id": "ibXDAOJnzyaF",
        "outputId": "5ec18b78-1e14-4a4e-8057-3c7aef24eda9"
      },
      "source": [
        "fig = plt.figure(figsize=(6, 6))  \n",
        "fig.subplots_adjust(left=0, right=1, bottom=0, top=1, hspace=0.05, wspace=0.05)\n",
        "\n",
        "for i in range(16):\n",
        "    ax = fig.add_subplot(4, 4, i + 1, xticks=[], yticks=[])\n",
        "    ax.imshow(digits.images[i], cmap=plt.cm.binary, interpolation='nearest')\n",
        "    ax.text(0, 7, str(digits.target[i]))"
      ],
      "execution_count": null,
      "outputs": [
        {
          "output_type": "display_data",
          "data": {
            "image/png": "[encoded data removed]",
            "text/plain": [
              "<Figure size 432x432 with 16 Axes>"
            ]
          },
          "metadata": {
            "tags": []
          }
        }
      ]
    },
    {
      "cell_type": "code",
      "metadata": {
        "id": "5XchbogV8X7u"
      },
      "source": [
        "X = digits.data\n",
        "y = digits.target"
      ],
      "execution_count": null,
      "outputs": []
    },
    {
      "cell_type": "code",
      "metadata": {
        "id": "Cr9hycq93b63"
      },
      "source": [
        "from sklearn.model_selection import train_test_split"
      ],
      "execution_count": null,
      "outputs": []
    },
    {
      "cell_type": "code",
      "metadata": {
        "id": "UwmGRkpv6HjH"
      },
      "source": [
        "X_train, X_test, y_train, y_test = train_test_split(X, y, test_size = 0.2, random_state = 42)"
      ],
      "execution_count": null,
      "outputs": []
    },
    {
      "cell_type": "code",
      "metadata": {
        "colab": {
          "base_uri": "https://localhost:8080/"
        },
        "id": "AtCRQkl56VWg",
        "outputId": "65a9356d-7ef3-4c09-e139-c9cec9153b9c"
      },
      "source": [
        "from sklearn.svm import SVC\n",
        "model = SVC(kernel = 'linear')\n",
        "model.fit(X_train, y_train)"
      ],
      "execution_count": null,
      "outputs": [
        {
          "output_type": "execute_result",
          "data": {
            "text/plain": [
              "SVC(C=1.0, break_ties=False, cache_size=200, class_weight=None, coef0=0.0,\n",
              "    decision_function_shape='ovr', degree=3, gamma='scale', kernel='linear',\n",
              "    max_iter=-1, probability=False, random_state=None, shrinking=True,\n",
              "    tol=0.001, verbose=False)"
            ]
          },
          "metadata": {
            "tags": []
          },
          "execution_count": 11
        }
      ]
    },
    {
      "cell_type": "code",
      "metadata": {
        "id": "Qvk4oMyf6mae"
      },
      "source": [
        "pred = model.predict(X_test)"
      ],
      "execution_count": null,
      "outputs": []
    },
    {
      "cell_type": "code",
      "metadata": {
        "colab": {
          "base_uri": "https://localhost:8080/"
        },
        "id": "8o0RlUst6sjW",
        "outputId": "0d27b3fd-c62d-4082-ba5f-6f9daf454487"
      },
      "source": [
        "from sklearn.metrics import accuracy_score\n",
        "a = accuracy_score(y_test, pred)\n",
        "print(a)"
      ],
      "execution_count": null,
      "outputs": [
        {
          "output_type": "stream",
          "text": [
            "0.9777777777777777\n"
          ],
          "name": "stdout"
        }
      ]
    },
    {
      "cell_type": "code",
      "metadata": {
        "colab": {
          "base_uri": "https://localhost:8080/"
        },
        "id": "tiE2wB7F9Shs",
        "outputId": "89efed4a-e49e-4505-8992-90319b1b14c4"
      },
      "source": [
        "model_1 = SVC(kernel = 'rbf')\n",
        "model_1.fit(X_train, y_train)"
      ],
      "execution_count": null,
      "outputs": [
        {
          "output_type": "execute_result",
          "data": {
            "text/plain": [
              "SVC(C=1.0, break_ties=False, cache_size=200, class_weight=None, coef0=0.0,\n",
              "    decision_function_shape='ovr', degree=3, gamma='scale', kernel='rbf',\n",
              "    max_iter=-1, probability=False, random_state=None, shrinking=True,\n",
              "    tol=0.001, verbose=False)"
            ]
          },
          "metadata": {
            "tags": []
          },
          "execution_count": 14
        }
      ]
    },
    {
      "cell_type": "code",
      "metadata": {
        "id": "dHHC0qSg9v5U"
      },
      "source": [
        "pred_1 = model_1.predict(X_test)"
      ],
      "execution_count": null,
      "outputs": []
    },
    {
      "cell_type": "code",
      "metadata": {
        "colab": {
          "base_uri": "https://localhost:8080/"
        },
        "id": "LmPxHIWp93Hs",
        "outputId": "39d5156c-cd45-4b3c-de0a-6587de8d9787"
      },
      "source": [
        "a_1 = accuracy_score(y_test, pred_1)\n",
        "a_1"
      ],
      "execution_count": null,
      "outputs": [
        {
          "output_type": "execute_result",
          "data": {
            "text/plain": [
              "0.9861111111111112"
            ]
          },
          "metadata": {
            "tags": []
          },
          "execution_count": 16
        }
      ]
    },
    {
      "cell_type": "code",
      "metadata": {
        "colab": {
          "base_uri": "https://localhost:8080/"
        },
        "id": "-t0cMMwT9_VK",
        "outputId": "cd10860a-9db0-4f0a-ef2d-c5164ca5ec45"
      },
      "source": [
        "model_2 = SVC(kernel = 'poly')\n",
        "model_2.fit(X_train, y_train)"
      ],
      "execution_count": null,
      "outputs": [
        {
          "output_type": "execute_result",
          "data": {
            "text/plain": [
              "SVC(C=1.0, break_ties=False, cache_size=200, class_weight=None, coef0=0.0,\n",
              "    decision_function_shape='ovr', degree=3, gamma='scale', kernel='poly',\n",
              "    max_iter=-1, probability=False, random_state=None, shrinking=True,\n",
              "    tol=0.001, verbose=False)"
            ]
          },
          "metadata": {
            "tags": []
          },
          "execution_count": 17
        }
      ]
    },
    {
      "cell_type": "code",
      "metadata": {
        "id": "vjHLjlv2-Mal"
      },
      "source": [
        "pred_2 = model_2.predict(X_test)"
      ],
      "execution_count": null,
      "outputs": []
    },
    {
      "cell_type": "code",
      "metadata": {
        "colab": {
          "base_uri": "https://localhost:8080/"
        },
        "id": "msaLqpiS-RNd",
        "outputId": "ec09cb4f-b5f5-478d-869e-b16909202c4e"
      },
      "source": [
        "a_2 = accuracy_score(y_test, pred_2)\n",
        "a_2"
      ],
      "execution_count": null,
      "outputs": [
        {
          "output_type": "execute_result",
          "data": {
            "text/plain": [
              "0.9916666666666667"
            ]
          },
          "metadata": {
            "tags": []
          },
          "execution_count": 19
        }
      ]
    },
    {
      "cell_type": "code",
      "metadata": {
        "id": "8S7ui_K7Au-X"
      },
      "source": [
        ""
      ],
      "execution_count": null,
      "outputs": []
    }
  ]
}