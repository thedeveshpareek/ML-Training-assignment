{
  "nbformat": 4,
  "nbformat_minor": 0,
  "metadata": {
    "colab": {
      "name": "day_2.ipynb",
      "provenance": [],
      "authorship_tag": "ABX9TyMg2o8ZdHdcNX9UFiETIwDL",
      "include_colab_link": true
    },
    "kernelspec": {
      "name": "python3",
      "display_name": "Python 3"
    },
    "language_info": {
      "name": "python"
    }
  },
  "cells": [
    {
      "cell_type": "markdown",
      "metadata": {
        "id": "view-in-github",
        "colab_type": "text"
      },
      "source": [
        "<a href=\"https://colab.research.google.com/github/thedeveshpareek/ML-Training-assignment/blob/main/day_2.ipynb\" target=\"_parent\"><img src=\"https://colab.research.google.com/assets/colab-badge.svg\" alt=\"Open In Colab\"/></a>"
      ]
    },
    {
      "cell_type": "markdown",
      "metadata": {
        "id": "2cCBfRHMOiG6"
      },
      "source": [
        "Task 1\n",
        "\n",
        "GO_STP_8589\n",
        "\n",
        "1.We are having 3 list like this\n",
        "\n",
        "Colors = [“Yellow”,”Green”,”White”,”Black”]\n",
        "\n",
        "Fruits=[“Apple”,”Papaya”,”Mango”,”Orange”]\n",
        "\n",
        "Animals=[“Tiger”,”Lion”,”Deer”,”Zebra”]\n",
        "\n",
        "i. Write a program that asks user to enter a Color/Fruit/Animal name and it should tell which category belongs to , like its is a fruit or color or Animal\n",
        "\n",
        "ii. Write a program that asks user to enter two cities and it tells you if they both are in same country or not. For example if I enter yellow and Black, it will print \"Both are colors\" but if I enter yellow and Tiger it should print \"They don't belong to same category\""
      ]
    },
    {
      "cell_type": "markdown",
      "metadata": {
        "id": "_HsV9Nd0Okdr"
      },
      "source": [
        ""
      ]
    },
    {
      "cell_type": "code",
      "metadata": {
        "colab": {
          "base_uri": "https://localhost:8080/"
        },
        "id": "gAPhnKJXK-gn",
        "outputId": "15c0e7bf-2564-4a34-b3c1-1aea8ed21458"
      },
      "source": [
        "#1\n",
        "Colors = [\"Yellow\",\"Green\",\"White\",\"Black\"]\n",
        "Fruits=[\"Apple\",\"Papaya\",\"mango\",\"Orange\"]\n",
        "Animals=[\"Tiger\",\"Lion\",\"Deer\",\"zebra\"]\n",
        "name=input(\"choice : \")\n",
        "if name in Colors:\n",
        "  print(name,\"is Color\")\n",
        "elif name in Animals:\n",
        "  print(name,\"is Animal\")\n",
        "elif name in Fruits:\n",
        "  print(name,\"is Fruit\")\n",
        "else :\n",
        "  print(\"name is not find in the given list \")"
      ],
      "execution_count": null,
      "outputs": [
        {
          "output_type": "stream",
          "text": [
            "choice : Green\n",
            "Green is Color\n"
          ],
          "name": "stdout"
        }
      ]
    },
    {
      "cell_type": "markdown",
      "metadata": {
        "id": "kaobKVmIOhUB"
      },
      "source": [
        ""
      ]
    },
    {
      "cell_type": "code",
      "metadata": {
        "id": "x3_imB66Rs6j"
      },
      "source": [
        "#2\n",
        "choice1= input(\"choice_1 :\")\n",
        "choice2= input(\"choice_2 :\")\n",
        "if choice1 in Colors:\n",
        "  if choice2 in Colors:\n",
        "    print(\"both choices are colors\")\n",
        "  else :\n",
        "    print(\"both choices are different\")\n",
        "elif choice1 in Fruits:\n",
        "  if choice2 in Fruits:\n",
        "    print(\"both choices are fruits\")\n",
        "  else:\n",
        "    print(\"both choices are different\")\n",
        "elif choice1 in Animals:\n",
        "  if choice2 in Animals:\n",
        "    print(\"both are the animals\")\n",
        "  else:\n",
        "    print(\"both choices are different\")\n",
        "else:\n",
        "  print(\"the choice are you given this is not in the list\")"
      ],
      "execution_count": null,
      "outputs": []
    },
    {
      "cell_type": "markdown",
      "metadata": {
        "id": "Zp79oB1Wi8Gg"
      },
      "source": [
        "2.Write a python program that can tell you if your grade score good or not . Good Score range is 40 to 60.\n",
        "\n",
        "i. Ask user to enter his score.\n",
        "\n",
        "ii. If it is below 40 to 60 range then print that score is low\n",
        "\n",
        "iii. If it is above 60 then print that it is good otherwise print that it is norma"
      ]
    },
    {
      "cell_type": "code",
      "metadata": {
        "id": "ByqkTjr8T-Zz",
        "colab": {
          "base_uri": "https://localhost:8080/"
        },
        "outputId": "ee74027d-7f09-4321-c8f4-111f98d7f736"
      },
      "source": [
        "num=int(input(\"Your Score \"))\n",
        "if num<=40:\n",
        "  print(\"score is low\")\n",
        "elif num in range(40,60):\n",
        "  print(\"it is normal\")\n",
        "elif num>=60:\n",
        "  print(\"good\")\n",
        "  "
      ],
      "execution_count": null,
      "outputs": [
        {
          "output_type": "stream",
          "text": [
            "Your Score 39\n",
            "score is low\n"
          ],
          "name": "stdout"
        }
      ]
    },
    {
      "cell_type": "markdown",
      "metadata": {
        "id": "oJ3KEIMljjtw"
      },
      "source": [
        "\n",
        "3.After appearing in exam 10 times you got this result,\n",
        "\n",
        "result = [\"Pass\",\"Fail\",\"Fail\",\"Pass\",\"Fail\",\"Pass\",\"Pass\",\"Fail\",\"Fail\",\"Fail\"]\n",
        "\n",
        "Using for loop figure out how many times you got Pass"
      ]
    },
    {
      "cell_type": "code",
      "metadata": {
        "colab": {
          "base_uri": "https://localhost:8080/"
        },
        "id": "wVu-SxvGjI8_",
        "outputId": "2315cb23-4e8a-4f33-c979-971f9a52516a"
      },
      "source": [
        "result = [\"Pass\",\"Fail\",\"Fail\",\"Pass\",\"Fail\",\"Pass\",\"Pass\",\"Fail\",\"Fail\",\"Fail\"]\n",
        "count=0\n",
        "for item in result:\n",
        "  if item is \"Pass\":\n",
        "    count+=1\n",
        "print(count)"
      ],
      "execution_count": null,
      "outputs": [
        {
          "output_type": "stream",
          "text": [
            "1\n"
          ],
          "name": "stdout"
        }
      ]
    },
    {
      "cell_type": "markdown",
      "metadata": {
        "id": "9BlE74xSkQb_"
      },
      "source": [
        "4.Write a program that prints following shape\n",
        "*    \n",
        "**   \n",
        "***  \n",
        "**** \n",
        "*****\n",
        "****\n",
        "*** \n",
        "**  \n",
        "*   \n"
      ]
    },
    {
      "cell_type": "code",
      "metadata": {
        "colab": {
          "base_uri": "https://localhost:8080/"
        },
        "id": "SCGrxAIYjw3X",
        "outputId": "179f59d6-acf0-4734-ace2-b3b34adca912"
      },
      "source": [
        "for i in range(0,5):\n",
        "  for j in range(0,5):\n",
        "    if j<=i:\n",
        "      print(\"*\",end=\"\")\n",
        "    else:\n",
        "      print(\" \",end=\"\")\n",
        "  print(\"\")\n",
        "for i in range(0,4):\n",
        "  for j in range(0,4):\n",
        "    if j<(4-i):\n",
        "      print(\"*\",end=\"\")\n",
        "    else:\n",
        "      print(\" \",end=\"\")\n",
        "  print(\"\")"
      ],
      "execution_count": null,
      "outputs": [
        {
          "output_type": "stream",
          "text": [
            "*    \n",
            "**   \n",
            "***  \n",
            "**** \n",
            "*****\n",
            "****\n",
            "*** \n",
            "**  \n",
            "*   \n"
          ],
          "name": "stdout"
        }
      ]
    },
    {
      "cell_type": "markdown",
      "metadata": {
        "id": "KLiMaFhXkomC"
      },
      "source": [
        "\n",
        "5.Lets say you are running a 50 km race. Write a program that,\n",
        "\n",
        "Upon completing each 10 km asks you \"are you tired?\"\n",
        "\n",
        "If you reply \"yes\" then it should break and print \"you didn't finish the race\"\n",
        "\n",
        "If you reply \"no\" then it should continue and ask \"are you tired\" on every km\n",
        "\n",
        "If you finish all 50 km then it should print congratulations message\n"
      ]
    },
    {
      "cell_type": "code",
      "metadata": {
        "colab": {
          "base_uri": "https://localhost:8080/"
        },
        "id": "CE1inVMZkb7F",
        "outputId": "48820739-0b10-41a1-82c6-79872fa78f25"
      },
      "source": [
        "flag=True\n",
        "for _ in range(0,50,10):\n",
        "  s=input(\"are you tired? \\n\")\n",
        "  if s=='no':\n",
        "    continue\n",
        "  else:\n",
        "    flag=False\n",
        "    break\n",
        "if flag:\n",
        "  print(\"congratulations\")"
      ],
      "execution_count": null,
      "outputs": [
        {
          "output_type": "stream",
          "text": [
            "are you tired? \n",
            "no\n",
            "are you tired? \n",
            "no\n",
            "are you tired? \n",
            "no\n",
            "are you tired? \n",
            "no\n",
            "are you tired? \n",
            "no\n",
            "congratulations\n"
          ],
          "name": "stdout"
        }
      ]
    },
    {
      "cell_type": "markdown",
      "metadata": {
        "id": "xOEGtBiflGfS"
      },
      "source": [
        "\n",
        "6.Write a Python program to find those numbers which are divisible by 7 and multiple of 5, between 1500 and 2700 (both included)."
      ]
    },
    {
      "cell_type": "code",
      "metadata": {
        "colab": {
          "base_uri": "https://localhost:8080/"
        },
        "id": "cKxvnSTdk5eQ",
        "outputId": "cabaf8ae-3568-42e3-9a4d-4159e12ee3e7"
      },
      "source": [
        "for i in range(1500,2701):\n",
        "  if i%7==0 and i%5==0:\n",
        "    print(i)\n",
        "\n",
        "    "
      ],
      "execution_count": null,
      "outputs": [
        {
          "output_type": "stream",
          "text": [
            "1505\n",
            "1540\n",
            "1575\n",
            "1610\n",
            "1645\n",
            "1680\n",
            "1715\n",
            "1750\n",
            "1785\n",
            "1820\n",
            "1855\n",
            "1890\n",
            "1925\n",
            "1960\n",
            "1995\n",
            "2030\n",
            "2065\n",
            "2100\n",
            "2135\n",
            "2170\n",
            "2205\n",
            "2240\n",
            "2275\n",
            "2310\n",
            "2345\n",
            "2380\n",
            "2415\n",
            "2450\n",
            "2485\n",
            "2520\n",
            "2555\n",
            "2590\n",
            "2625\n",
            "2660\n",
            "2695\n"
          ],
          "name": "stdout"
        }
      ]
    },
    {
      "cell_type": "markdown",
      "metadata": {
        "id": "TunGKr-Alq8R"
      },
      "source": [
        "7.Print square of all numbers between 10 to 20 except even numbers\n"
      ]
    },
    {
      "cell_type": "code",
      "metadata": {
        "colab": {
          "base_uri": "https://localhost:8080/"
        },
        "id": "ze90u44AlXjU",
        "outputId": "f6688919-20de-4fed-ca3e-949f21cacd0e"
      },
      "source": [
        "for j in range(10,21):\n",
        "  flag=False\n",
        "  for i in range(2,j):\n",
        "    if (j % i) == 0:\n",
        "      flag=True\n",
        "  if flag:\n",
        "    print(j)\n",
        "    "
      ],
      "execution_count": null,
      "outputs": [
        {
          "output_type": "stream",
          "text": [
            "10\n",
            "12\n",
            "14\n",
            "15\n",
            "16\n",
            "18\n",
            "20\n"
          ],
          "name": "stdout"
        }
      ]
    },
    {
      "cell_type": "markdown",
      "metadata": {
        "id": "XrpwNs0il7zB"
      },
      "source": [
        "8.Your Marks for five Test(test1 to test5) looks like this,\n",
        "\n",
        "marks_list = [65, 75, 2100, 95, 83]\n",
        "\n",
        "Write a program that asks you to enter marks and program should tell you in which test that expense occurred. If expense is not found then it should print that as well.\n"
      ]
    },
    {
      "cell_type": "code",
      "metadata": {
        "colab": {
          "base_uri": "https://localhost:8080/"
        },
        "id": "Gw6_FsA8mBIo",
        "outputId": "31c4f8a4-b1d5-4ffb-f53c-2efb989b2c43"
      },
      "source": [
        "marks_list = [65, 75, 2100, 95, 83]\n",
        "l=[]\n",
        "for item in marks_list:\n",
        "  g=int(input(\"enter marks \"))\n",
        "  if item == g:\n",
        "    #expence not found\n",
        "    print(item)\n",
        "  else:\n",
        "    #expence found\n",
        "    print(\"Expence found\")\n",
        "    "
      ],
      "execution_count": null,
      "outputs": [
        {
          "output_type": "stream",
          "text": [
            "enter marks 65\n",
            "65\n",
            "enter marks 12\n",
            "Expence found\n",
            "enter marks 86\n",
            "Expence found\n",
            "enter marks 40\n",
            "Expence found\n",
            "enter marks 1\n",
            "Expence found\n"
          ],
          "name": "stdout"
        }
      ]
    },
    {
      "cell_type": "code",
      "metadata": {
        "id": "mLKVG-oQmEzP"
      },
      "source": [
        ""
      ],
      "execution_count": null,
      "outputs": []
    }
  ]
}