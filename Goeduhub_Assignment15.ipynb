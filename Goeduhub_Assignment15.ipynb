{
  "nbformat": 4,
  "nbformat_minor": 0,
  "metadata": {
    "colab": {
      "name": "Goeduhub_Assignment15.ipynb",
      "provenance": [],
      "include_colab_link": true
    },
    "kernelspec": {
      "name": "python3",
      "display_name": "Python 3"
    },
    "language_info": {
      "name": "python"
    }
  },
  "cells": [
    {
      "cell_type": "markdown",
      "metadata": {
        "id": "view-in-github",
        "colab_type": "text"
      },
      "source": [
        "<a href=\"https://colab.research.google.com/github/thedeveshpareek/ML-Training-assignment/blob/main/Goeduhub_Assignment15.ipynb\" target=\"_parent\"><img src=\"https://colab.research.google.com/assets/colab-badge.svg\" alt=\"Open In Colab\"/></a>"
      ]
    },
    {
      "cell_type": "markdown",
      "metadata": {
        "id": "uRecqfFQswnq"
      },
      "source": [
        "**Build a spam filter using Python and the multinomial Naive Bayes algorithm.** \n",
        "\n",
        "**Check Spam or Ham? Email Classifier Using Python using MultinomialNB.**"
      ]
    },
    {
      "cell_type": "markdown",
      "metadata": {
        "id": "YFBfrscIyiSv"
      },
      "source": [
        "#devesh pareek\n",
        "# go_stp_8589"
      ]
    },
    {
      "cell_type": "markdown",
      "metadata": {
        "id": "4caX6lQxtW17"
      },
      "source": [
        "## Import Libraries"
      ]
    },
    {
      "cell_type": "code",
      "metadata": {
        "id": "iqQiA2pZslGV"
      },
      "source": [
        "import numpy as np\n",
        "import pandas as pd\n",
        "import matplotlib.pyplot as plt\n",
        "%matplotlib inline\n",
        "import seaborn as sb\n",
        "import sklearn\n",
        "from sklearn.model_selection import train_test_split\n",
        "from sklearn.naive_bayes import MultinomialNB\n",
        "from sklearn.metrics import confusion_matrix, accuracy_score"
      ],
      "execution_count": null,
      "outputs": []
    },
    {
      "cell_type": "markdown",
      "metadata": {
        "id": "v_S48qSKty7z"
      },
      "source": [
        "## Load Dataset"
      ]
    },
    {
      "cell_type": "code",
      "metadata": {
        "colab": {
          "base_uri": "https://localhost:8080/",
          "height": 204
        },
        "id": "iPKN_366tazm",
        "outputId": "4c1f7f4d-0e81-4feb-885c-981146cc4da0"
      },
      "source": [
        "spam = pd.read_csv(\"/content/drive/MyDrive/Goeduhub/spam.csv\")\n",
        "spam.head()"
      ],
      "execution_count": null,
      "outputs": [
        {
          "output_type": "execute_result",
          "data": {
            "text/html": [
              "<div>\n",
              "<style scoped>\n",
              "    .dataframe tbody tr th:only-of-type {\n",
              "        vertical-align: middle;\n",
              "    }\n",
              "\n",
              "    .dataframe tbody tr th {\n",
              "        vertical-align: top;\n",
              "    }\n",
              "\n",
              "    .dataframe thead th {\n",
              "        text-align: right;\n",
              "    }\n",
              "</style>\n",
              "<table border=\"1\" class=\"dataframe\">\n",
              "  <thead>\n",
              "    <tr style=\"text-align: right;\">\n",
              "      <th></th>\n",
              "      <th>Category</th>\n",
              "      <th>Message</th>\n",
              "    </tr>\n",
              "  </thead>\n",
              "  <tbody>\n",
              "    <tr>\n",
              "      <th>0</th>\n",
              "      <td>ham</td>\n",
              "      <td>Go until jurong point, crazy.. Available only ...</td>\n",
              "    </tr>\n",
              "    <tr>\n",
              "      <th>1</th>\n",
              "      <td>ham</td>\n",
              "      <td>Ok lar... Joking wif u oni...</td>\n",
              "    </tr>\n",
              "    <tr>\n",
              "      <th>2</th>\n",
              "      <td>spam</td>\n",
              "      <td>Free entry in 2 a wkly comp to win FA Cup fina...</td>\n",
              "    </tr>\n",
              "    <tr>\n",
              "      <th>3</th>\n",
              "      <td>ham</td>\n",
              "      <td>U dun say so early hor... U c already then say...</td>\n",
              "    </tr>\n",
              "    <tr>\n",
              "      <th>4</th>\n",
              "      <td>ham</td>\n",
              "      <td>Nah I don't think he goes to usf, he lives aro...</td>\n",
              "    </tr>\n",
              "  </tbody>\n",
              "</table>\n",
              "</div>"
            ],
            "text/plain": [
              "  Category                                            Message\n",
              "0      ham  Go until jurong point, crazy.. Available only ...\n",
              "1      ham                      Ok lar... Joking wif u oni...\n",
              "2     spam  Free entry in 2 a wkly comp to win FA Cup fina...\n",
              "3      ham  U dun say so early hor... U c already then say...\n",
              "4      ham  Nah I don't think he goes to usf, he lives aro..."
            ]
          },
          "metadata": {
            "tags": []
          },
          "execution_count": 145
        }
      ]
    },
    {
      "cell_type": "markdown",
      "metadata": {
        "id": "xhH1AGyNuc2F"
      },
      "source": [
        "## Checking null values & applying label encoding for cateogrical variable"
      ]
    },
    {
      "cell_type": "code",
      "metadata": {
        "colab": {
          "base_uri": "https://localhost:8080/"
        },
        "id": "ZsnS1KYdt-T4",
        "outputId": "038ae688-a715-4c4f-ccc4-94b3ab2da520"
      },
      "source": [
        "spam.isnull().sum()"
      ],
      "execution_count": null,
      "outputs": [
        {
          "output_type": "execute_result",
          "data": {
            "text/plain": [
              "Category    0\n",
              "Message     0\n",
              "dtype: int64"
            ]
          },
          "metadata": {
            "tags": []
          },
          "execution_count": 146
        }
      ]
    },
    {
      "cell_type": "code",
      "metadata": {
        "colab": {
          "base_uri": "https://localhost:8080/"
        },
        "id": "7oFa7ybTunTW",
        "outputId": "f40513ca-1a82-4a49-fdf1-2aca5e6b6405"
      },
      "source": [
        "from sklearn.preprocessing import LabelEncoder\n",
        "\n",
        "le = LabelEncoder()\n",
        "spam[\"Category\"] = le.fit_transform(spam[\"Category\"])\n",
        "spam[\"Category\"]"
      ],
      "execution_count": null,
      "outputs": [
        {
          "output_type": "execute_result",
          "data": {
            "text/plain": [
              "0       0\n",
              "1       0\n",
              "2       1\n",
              "3       0\n",
              "4       0\n",
              "       ..\n",
              "5567    1\n",
              "5568    0\n",
              "5569    0\n",
              "5570    0\n",
              "5571    0\n",
              "Name: Category, Length: 5572, dtype: int64"
            ]
          },
          "metadata": {
            "tags": []
          },
          "execution_count": 147
        }
      ]
    },
    {
      "cell_type": "markdown",
      "metadata": {
        "id": "cvyevg684-fG"
      },
      "source": [
        "## Feature & Target"
      ]
    },
    {
      "cell_type": "code",
      "metadata": {
        "id": "C1AS9wbJ5Dqy"
      },
      "source": [
        "feature = spam[\"Message\"]\n",
        "target = spam[\"Category\"]"
      ],
      "execution_count": null,
      "outputs": []
    },
    {
      "cell_type": "markdown",
      "metadata": {
        "id": "N35BmU3VvIL5"
      },
      "source": [
        "## Text Processing"
      ]
    },
    {
      "cell_type": "code",
      "metadata": {
        "id": "L3KgPE2n0h-f"
      },
      "source": [
        "from sklearn.feature_extraction.text import CountVectorizer, TfidfTransformer"
      ],
      "execution_count": null,
      "outputs": []
    },
    {
      "cell_type": "code",
      "metadata": {
        "colab": {
          "base_uri": "https://localhost:8080/"
        },
        "id": "MB6fOPGh0wuo",
        "outputId": "8530b51e-d230-4428-8f50-a7e19293f68c"
      },
      "source": [
        "# covert textual data into numeric form\n",
        "\n",
        "count_vect = CountVectorizer()\n",
        "xtrain = count_vect.fit_transform(feature)\n",
        "print(xtrain.toarray()) \n",
        "print(xtrain.shape)"
      ],
      "execution_count": null,
      "outputs": [
        {
          "output_type": "stream",
          "text": [
            "[[0 0 0 ... 0 0 0]\n",
            " [0 0 0 ... 0 0 0]\n",
            " [0 0 0 ... 0 0 0]\n",
            " ...\n",
            " [0 0 0 ... 0 0 0]\n",
            " [0 0 0 ... 0 0 0]\n",
            " [0 0 0 ... 0 0 0]]\n",
            "(5572, 8709)\n"
          ],
          "name": "stdout"
        }
      ]
    },
    {
      "cell_type": "code",
      "metadata": {
        "colab": {
          "base_uri": "https://localhost:8080/"
        },
        "id": "WEQd8bZe2vyE",
        "outputId": "167a8754-5db9-4159-89fe-0101dd9271b5"
      },
      "source": [
        "tfidf_transformer = TfidfTransformer()\n",
        "xtrain_tfidf = tfidf_transformer.fit_transform(xtrain)\n",
        "print(xtrain_tfidf.shape)"
      ],
      "execution_count": null,
      "outputs": [
        {
          "output_type": "stream",
          "text": [
            "(5572, 8709)\n"
          ],
          "name": "stdout"
        }
      ]
    },
    {
      "cell_type": "markdown",
      "metadata": {
        "id": "7OmF-3mF5Yqx"
      },
      "source": [
        "## Divide data into training and testing"
      ]
    },
    {
      "cell_type": "code",
      "metadata": {
        "colab": {
          "base_uri": "https://localhost:8080/"
        },
        "id": "XUmYyx_o3SUO",
        "outputId": "efa9a1cb-3228-4e0c-f0e0-a85849951dfc"
      },
      "source": [
        "xtrain, xtest, ytrain, ytest = train_test_split(xtrain_tfidf, target, test_size = 0.3, random_state = 42)\n",
        "print(\"Shape of xtrain:\", xtrain.shape)\n",
        "print(\"Shape of xtest:\", xtest.shape)\n",
        "print(\"Shape of ytrain:\", ytrain.shape)\n",
        "print(\"Shape of ytest:\",ytest.shape)"
      ],
      "execution_count": null,
      "outputs": [
        {
          "output_type": "stream",
          "text": [
            "Shape of xtrain: (3900, 8709)\n",
            "Shape of xtest: (1672, 8709)\n",
            "Shape of ytrain: (3900,)\n",
            "Shape of ytest: (1672,)\n"
          ],
          "name": "stdout"
        }
      ]
    },
    {
      "cell_type": "markdown",
      "metadata": {
        "id": "QoyWi13y53Ek"
      },
      "source": [
        "## Create a model and fit training data"
      ]
    },
    {
      "cell_type": "code",
      "metadata": {
        "colab": {
          "base_uri": "https://localhost:8080/"
        },
        "id": "t3s-aZ0238MY",
        "outputId": "d58cc4f2-0d9d-4d9c-84d2-6005f56ba7d7"
      },
      "source": [
        "mnb = MultinomialNB()\n",
        "mnb.fit(xtrain, ytrain)"
      ],
      "execution_count": null,
      "outputs": [
        {
          "output_type": "execute_result",
          "data": {
            "text/plain": [
              "MultinomialNB(alpha=1.0, class_prior=None, fit_prior=True)"
            ]
          },
          "metadata": {
            "tags": []
          },
          "execution_count": 153
        }
      ]
    },
    {
      "cell_type": "markdown",
      "metadata": {
        "id": "SU7o9UH26A_e"
      },
      "source": [
        "## Predcitions"
      ]
    },
    {
      "cell_type": "code",
      "metadata": {
        "colab": {
          "base_uri": "https://localhost:8080/"
        },
        "id": "xxCX6Vqs6EQ2",
        "outputId": "7730fb65-3b50-4fef-85fa-c68695cf5a1b"
      },
      "source": [
        "ypred = mnb.predict(xtest)\n",
        "print(\"Prediction made by model:\\n\", ypred)"
      ],
      "execution_count": null,
      "outputs": [
        {
          "output_type": "stream",
          "text": [
            "Prediction made by model:\n",
            " [0 0 0 ... 0 1 0]\n"
          ],
          "name": "stdout"
        }
      ]
    },
    {
      "cell_type": "markdown",
      "metadata": {
        "id": "-P38AKSw6MnB"
      },
      "source": [
        "## Confusion Matrix and Accuracy score"
      ]
    },
    {
      "cell_type": "code",
      "metadata": {
        "colab": {
          "base_uri": "https://localhost:8080/"
        },
        "id": "d1pkgbWz4Tc8",
        "outputId": "dec0027f-1d5b-4a97-f06d-992f489df6c5"
      },
      "source": [
        "matrix = confusion_matrix(ytest, ypred)\n",
        "print(\"Confusion Matrix:\\n\", matrix)"
      ],
      "execution_count": null,
      "outputs": [
        {
          "output_type": "stream",
          "text": [
            "Confusion Matrix:\n",
            " [[1448    0]\n",
            " [  66  158]]\n"
          ],
          "name": "stdout"
        }
      ]
    },
    {
      "cell_type": "code",
      "metadata": {
        "colab": {
          "base_uri": "https://localhost:8080/"
        },
        "id": "iE67sfqr4evB",
        "outputId": "2ca86245-7868-46d3-b654-b5dea2d85e51"
      },
      "source": [
        "accuracy = accuracy_score(ytest, ypred)\n",
        "print(\"Accuracy: {}%\".format(accuracy*100))"
      ],
      "execution_count": null,
      "outputs": [
        {
          "output_type": "stream",
          "text": [
            "Accuracy: 96.05263157894737%\n"
          ],
          "name": "stdout"
        }
      ]
    }
  ]
}