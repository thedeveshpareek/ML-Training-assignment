{
  "nbformat": 4,
  "nbformat_minor": 0,
  "metadata": {
    "colab": {
      "name": "Bharat Chhedwal (Go_STP_11643).ipynb",
      "provenance": [],
      "collapsed_sections": [],
      "include_colab_link": true
    },
    "kernelspec": {
      "name": "python3",
      "display_name": "Python 3"
    },
    "language_info": {
      "name": "python"
    }
  },
  "cells": [
    {
      "cell_type": "markdown",
      "metadata": {
        "id": "view-in-github",
        "colab_type": "text"
      },
      "source": [
        "<a href=\"https://colab.research.google.com/github/thedeveshpareek/ML-Training-assignment/blob/main/task_3.ipynb\" target=\"_parent\"><img src=\"https://colab.research.google.com/assets/colab-badge.svg\" alt=\"Open In Colab\"/></a>"
      ]
    },
    {
      "cell_type": "markdown",
      "metadata": {
        "id": "MgSXvr0STjpG"
      },
      "source": [
        "#Bharat Chhedwal\n",
        "Task 3\n",
        "\n",
        "GO_STP_11643"
      ]
    },
    {
      "cell_type": "markdown",
      "metadata": {
        "id": "2VbnNqdwTuU7"
      },
      "source": [
        "Q.1 Write a Python Program to sort (ascending and descending) a dictionary by value. "
      ]
    },
    {
      "cell_type": "code",
      "metadata": {
        "colab": {
          "base_uri": "https://localhost:8080/"
        },
        "id": "OHIE_3kKTiD0",
        "outputId": "e5a814d7-8a41-4250-8bab-b8db8396082e"
      },
      "source": [
        "import operator\n",
        "dn = {2: 5, 9: 4, 1: 3, 2: 6, 7: 0}\n",
        "print('Dictionary before sorting : ',dn)\n",
        "sor_d = sorted(dn.items(), key=operator.itemgetter(1))\n",
        "print('Dictionary in ascending order by value : ',sor_d)\n",
        "sor_d = dict( sorted(dn.items(), key=operator.itemgetter(1),reverse=True))\n",
        "print('Dictionary in descending order by value : ',sor_d)\n"
      ],
      "execution_count": null,
      "outputs": [
        {
          "output_type": "stream",
          "text": [
            "Dictionary before sorting :  {2: 6, 9: 4, 1: 3, 7: 0}\n",
            "Dictionary in ascending order by value :  [(7, 0), (1, 3), (9, 4), (2, 6)]\n",
            "Dictionary in descending order by value :  {2: 6, 9: 4, 1: 3, 7: 0}\n"
          ],
          "name": "stdout"
        }
      ]
    },
    {
      "cell_type": "markdown",
      "metadata": {
        "id": "p1fqaWkDVLkQ"
      },
      "source": [
        "Q.2 Write a Python Program to add a key to a dictionary. \n",
        "\n",
        "Sample Dictionary : {0: 10, 1: 20}\n",
        "Expected Result : {0: 10, 1: 20, 2: 30}"
      ]
    },
    {
      "cell_type": "code",
      "metadata": {
        "colab": {
          "base_uri": "https://localhost:8080/"
        },
        "id": "1q_dtR7NVJY6",
        "outputId": "b01585c7-8456-425c-d7fe-c27b027e57a7"
      },
      "source": [
        "Sample_d = {0:10,1:20}\n",
        "print(\"Sample Dictionary : \", Sample_d)\n",
        "Sample_d.update({2:30})\n",
        "print(\"Updated Dictionary : \", Sample_d)"
      ],
      "execution_count": null,
      "outputs": [
        {
          "output_type": "stream",
          "text": [
            "Sample Dictionary :  {0: 10, 1: 20}\n",
            "Updated Dictionary :  {0: 10, 1: 20, 2: 30}\n"
          ],
          "name": "stdout"
        }
      ]
    },
    {
      "cell_type": "markdown",
      "metadata": {
        "id": "ZufZ3nMpWMTi"
      },
      "source": [
        "Q.3 Write a  program asks for City name and Temperature and builds a dictionary using that Later on you can input City name and it will tell you the Temperature of that City."
      ]
    },
    {
      "cell_type": "code",
      "metadata": {
        "colab": {
          "base_uri": "https://localhost:8080/"
        },
        "id": "wTGEGKk0WN_N",
        "outputId": "635bd154-d8a9-432e-874e-982192a63f77"
      },
      "source": [
        "cl = []\n",
        "tl = []\n",
        "newd = {}\n",
        "\n",
        "flag = True\n",
        "while(flag):\n",
        "  print('\\n 1: Type 1 to add new record : \\n 2: Type 2 to exit : ')\n",
        "  ch = eval(input('Enter your choice : '))\n",
        "  if ch == 1:\n",
        "    ct = input('Input name of the City : ')\n",
        "    tem = eval(input('Input Temperature of the City : '))\n",
        "    cl.append(ct)\n",
        "    tl.append(tem)\n",
        "  elif ch == 2:\n",
        "    flag = False\n",
        "  else:\n",
        "    print(\"Choice not Found\")\n",
        "\n",
        "for i in range(0,len(cl)):\n",
        "  newd.update({cl[i]:tl[i]})\n",
        "inputcityname = input('Enter the name of the city whose Temperature you want to know : ')\n",
        "if (len(newd) == 0):\n",
        "  print('The List is empty')\n",
        "elif inputcityname not in newd.keys():\n",
        "  print('The City name you entered does not exist in the list')\n",
        "else: print(f'The Temperature is {newd[inputcityname]}')"
      ],
      "execution_count": null,
      "outputs": [
        {
          "output_type": "stream",
          "text": [
            "\n",
            " 1: Type 1 to add new record : \n",
            " 2: Type 2 to exit : \n",
            "Enter your choice : 1\n",
            "Input name of the City : Ahmedabad\n",
            "Input Temperature of the City : 39\n",
            "\n",
            " 1: Type 1 to add new record : \n",
            " 2: Type 2 to exit : \n",
            "Enter your choice : 1\n",
            "Input name of the City : Surat\n",
            "Input Temperature of the City : 34\n",
            "\n",
            " 1: Type 1 to add new record : \n",
            " 2: Type 2 to exit : \n",
            "Enter your choice : 2\n",
            "Enter the name of the city whose Temperature you want to know : Surat\n",
            "The Temperature is 34\n"
          ],
          "name": "stdout"
        }
      ]
    },
    {
      "cell_type": "markdown",
      "metadata": {
        "id": "vocx4vLXbGDG"
      },
      "source": [
        "Q. 4 Write a Python program to convert list to list of dictionaries.\n",
        "\n",
        "Sample lists: [\"Black\", \"Red\", \"Maroon\", \"Yellow\"], [\"#000000\", \"#FF0000\", \"#800000\", \"#FFFF00\"]\n",
        "\n",
        "Expected Output: [{'color_name': 'Black', 'color_code': '#000000'}, {'color_name': 'Red', 'color_code': '#FF0000'}, {'color_name': 'Maroon', 'color_code': '#800000'}, {'color_name': 'Yellow', 'color_code': '#FFFF00'}]"
      ]
    },
    {
      "cell_type": "code",
      "metadata": {
        "colab": {
          "base_uri": "https://localhost:8080/"
        },
        "id": "pNJcXWXvaTP9",
        "outputId": "185864c6-b23c-4c26-9c69-9a35182973b8"
      },
      "source": [
        "name_l = [\"Black\",\"Red\",\"Maroon\",\"Yellow\"]\n",
        "code_l = [\"#000000\", \"#FF0000\", \"#800000\", \"#FFFF00\"]\n",
        "clr = []\n",
        "for i in range(0,len(name_l)):\n",
        "  clr.append({'color_name' : name_l[i], 'color_code' : code_l[i]})\n",
        "print(clr)"
      ],
      "execution_count": null,
      "outputs": [
        {
          "output_type": "stream",
          "text": [
            "[{'color_name': 'Black', 'color_code': '#000000'}, {'color_name': 'Red', 'color_code': '#FF0000'}, {'color_name': 'Maroon', 'color_code': '#800000'}, {'color_name': 'Yellow', 'color_code': '#FFFF00'}]\n"
          ],
          "name": "stdout"
        }
      ]
    },
    {
      "cell_type": "markdown",
      "metadata": {
        "id": "Fk-N1b84cf2V"
      },
      "source": [
        "Q. 5 We have following information on Employees and their Salary (Salary is in lakhs),\n",
        "\n",
        "Employee\tSalary\n",
        "\n",
        "John  \t14\n",
        "\n",
        "Smith  \t13\n",
        "\n",
        "Alice  \t32\n",
        "\n",
        "Daneil\t21\n",
        "\n",
        "1.)Using above create a dictionary of Employees and their Salary\n",
        "\n",
        "2.)Write a program that asks user for three type of inputs,\n",
        "a] print: if user enter print then it should print all Employees with their Salary in this format,\n",
        "1.John ==>14\n",
        "\n",
        "2.Smith ==>13\n",
        "\n",
        "3.Alice ==>32\n",
        "\n",
        "4.Daneil ==>21\n",
        "\n",
        "b]add: if user input adds then it should further ask for an Employee name to add. If Employee already exists in our dataset then it should print that it exists and do nothing. If it doesn't then it asks for Salary and add that new Employee/Salary in our dictionary and print it\n",
        "\n",
        "c]remove: when user inputs remove it should ask for an Employee to remove. If an Employee exists in our dictionary then remove it and print a new dictionary using format shown above in (a). Else print that Employee doesn't exist!\n",
        "\n",
        "d]query: on this again ask the user for which Employee he or she wants to query. When a user inputs that Employee it will print the Salary of that Employee.\n"
      ]
    },
    {
      "cell_type": "code",
      "metadata": {
        "colab": {
          "base_uri": "https://localhost:8080/"
        },
        "id": "zs3yTfqmcVqM",
        "outputId": "54e8fb33-5b79-468a-cf23-3044eef84b26"
      },
      "source": [
        "empsalary = {'John' : 14, 'Smith' : 13, 'Alice' : 32, 'Daneil' : 21}\n",
        "\n",
        "def printall():\n",
        "  print(\"\\nEmployee ==> Salary\")\n",
        "  for em in empsalary:\n",
        "    print(\"%s ==> %d\", (em, empsalary[em]))\n",
        "\n",
        "def addemp():\n",
        "  newname = input(\"\\nEnter name of new Employee : \")\n",
        "  newsalary = int(input(\"Enter Salary of the new Employee\"))\n",
        "  if newname in empsalary:\n",
        "    print(\"Already entered!\")\n",
        "    return\n",
        "  empsalary[newname] = newsalary\n",
        "\n",
        "def removeemp():\n",
        "  empname = input(\"\\nEnter name of Employee to be removed : \")\n",
        "  if empname in empsalary:\n",
        "    empsalary.pop(empname)\n",
        "    return\n",
        "  print(\"Employee does not exist!\")\n",
        "\n",
        "def empquery():\n",
        "  empname = input(\"\\nEnter name of Employee : \")\n",
        "  if empname in empsalary:\n",
        "    print(\"The salary of employee is : \",empsalary[empname])\n",
        "  else:\n",
        "    print(\"Employee does not exist!\")\n",
        "\n",
        "flag = True\n",
        "\n",
        "while(flag):\n",
        "  print('\\n1] Print: ')\n",
        "  print('\\n2] Add: ')\n",
        "  print('\\n3] Remove: ')\n",
        "  print('\\n4] Query: ')\n",
        "  print('\\n5] Exit: ')\n",
        "  ch = int(input('Enter your choice : '))\n",
        "  if ch == 1:\n",
        "    printall()\n",
        "  elif ch == 2:\n",
        "    addemp()\n",
        "  elif ch == 3:\n",
        "    removeemp()\n",
        "    printall()\n",
        "  elif ch == 4:\n",
        "    empquery()\n",
        "  elif ch == 5:\n",
        "    print(\"you have exited!\")\n",
        "    flag = False\n",
        "  else:\n",
        "    print(\"Your choice is not valid\")\n"
      ],
      "execution_count": null,
      "outputs": [
        {
          "output_type": "stream",
          "text": [
            "\n",
            "1] Print: \n",
            "\n",
            "2] Add: \n",
            "\n",
            "3] Remove: \n",
            "\n",
            "4] Query: \n",
            "\n",
            "5] Exit: \n",
            "Enter your choice : 1\n",
            "\n",
            "Employee ==> Salary\n",
            "%s ==> %d ('John', 14)\n",
            "%s ==> %d ('Smith', 13)\n",
            "%s ==> %d ('Alice', 32)\n",
            "%s ==> %d ('Daneil', 21)\n",
            "\n",
            "1] Print: \n",
            "\n",
            "2] Add: \n",
            "\n",
            "3] Remove: \n",
            "\n",
            "4] Query: \n",
            "\n",
            "5] Exit: \n",
            "Enter your choice : 2\n",
            "\n",
            "Enter name of new Employee : Sam\n",
            "Enter Salary of the new Employee23\n",
            "\n",
            "1] Print: \n",
            "\n",
            "2] Add: \n",
            "\n",
            "3] Remove: \n",
            "\n",
            "4] Query: \n",
            "\n",
            "5] Exit: \n",
            "Enter your choice : 3\n",
            "\n",
            "Enter name of Employee to be removed : Alice\n",
            "\n",
            "Employee ==> Salary\n",
            "%s ==> %d ('John', 14)\n",
            "%s ==> %d ('Smith', 13)\n",
            "%s ==> %d ('Daneil', 21)\n",
            "%s ==> %d ('Sam', 23)\n",
            "\n",
            "1] Print: \n",
            "\n",
            "2] Add: \n",
            "\n",
            "3] Remove: \n",
            "\n",
            "4] Query: \n",
            "\n",
            "5] Exit: \n",
            "Enter your choice : 4\n",
            "\n",
            "Enter name of Employee : John\n",
            "The salary of employee is :  14\n",
            "\n",
            "1] Print: \n",
            "\n",
            "2] Add: \n",
            "\n",
            "3] Remove: \n",
            "\n",
            "4] Query: \n",
            "\n",
            "5] Exit: \n",
            "Enter your choice : 5\n",
            "you have exited!\n"
          ],
          "name": "stdout"
        }
      ]
    },
    {
      "cell_type": "markdown",
      "metadata": {
        "id": "gXBlLpqRkdj9"
      },
      "source": [
        "#Questions on Sets-\n",
        "Q.1 What is the difference between a set and a frozenset? Create any set and try to use frozenset(setname).\n",
        "\n",
        "Ans. When we create a set(a simple set is created) that means we can further modify this set and add element(unique objects only) so it is mutable whereas a frozen set means once we have declared it, we cannot further modify or reshape it and hence it is immutable."
      ]
    },
    {
      "cell_type": "code",
      "metadata": {
        "colab": {
          "base_uri": "https://localhost:8080/",
          "height": 231
        },
        "id": "AKDDEzidjnqR",
        "outputId": "c26c0fea-6d3d-40c0-8283-a8577eae144f"
      },
      "source": [
        "setname = {\"mansi\",\"piya\",\"neesha\"}\n",
        "f = frozenset(setname)\n",
        "print(f)\n",
        "f.add(\"niya\")\n",
        "print(f)"
      ],
      "execution_count": null,
      "outputs": [
        {
          "output_type": "stream",
          "text": [
            "frozenset({'mansi', 'neesha', 'piya'})\n"
          ],
          "name": "stdout"
        },
        {
          "output_type": "error",
          "ename": "AttributeError",
          "evalue": "ignored",
          "traceback": [
            "\u001b[0;31m---------------------------------------------------------------------------\u001b[0m",
            "\u001b[0;31mAttributeError\u001b[0m                            Traceback (most recent call last)",
            "\u001b[0;32m<ipython-input-16-c622d879b95b>\u001b[0m in \u001b[0;36m<module>\u001b[0;34m()\u001b[0m\n\u001b[1;32m      2\u001b[0m \u001b[0mf\u001b[0m \u001b[0;34m=\u001b[0m \u001b[0mfrozenset\u001b[0m\u001b[0;34m(\u001b[0m\u001b[0msetname\u001b[0m\u001b[0;34m)\u001b[0m\u001b[0;34m\u001b[0m\u001b[0;34m\u001b[0m\u001b[0m\n\u001b[1;32m      3\u001b[0m \u001b[0mprint\u001b[0m\u001b[0;34m(\u001b[0m\u001b[0mf\u001b[0m\u001b[0;34m)\u001b[0m\u001b[0;34m\u001b[0m\u001b[0;34m\u001b[0m\u001b[0m\n\u001b[0;32m----> 4\u001b[0;31m \u001b[0mf\u001b[0m\u001b[0;34m.\u001b[0m\u001b[0madd\u001b[0m\u001b[0;34m(\u001b[0m\u001b[0;34m\"niya\"\u001b[0m\u001b[0;34m)\u001b[0m\u001b[0;34m\u001b[0m\u001b[0;34m\u001b[0m\u001b[0m\n\u001b[0m\u001b[1;32m      5\u001b[0m \u001b[0mprint\u001b[0m\u001b[0;34m(\u001b[0m\u001b[0mf\u001b[0m\u001b[0;34m)\u001b[0m\u001b[0;34m\u001b[0m\u001b[0;34m\u001b[0m\u001b[0m\n",
            "\u001b[0;31mAttributeError\u001b[0m: 'frozenset' object has no attribute 'add'"
          ]
        }
      ]
    },
    {
      "cell_type": "markdown",
      "metadata": {
        "id": "_245ylt8mNeT"
      },
      "source": [
        "Hence from above we can see that we cannot add elements to frozenset."
      ]
    },
    {
      "cell_type": "markdown",
      "metadata": {
        "id": "E8UY0bn8mL6v"
      },
      "source": [
        "Q.2 Find the elements in a given set that are not in another set\n",
        "\n",
        "    set1 = {10,20,30,40,50}\n",
        "\n",
        "    set2 = {40,50,60,70,80}\n",
        "\n",
        " Difference between set1 and set2 is {10,20,30}"
      ]
    },
    {
      "cell_type": "code",
      "metadata": {
        "colab": {
          "base_uri": "https://localhost:8080/"
        },
        "id": "A59Kcoq1mZ09",
        "outputId": "8223cd4c-920a-4ecc-f4c4-2e8ea3779d85"
      },
      "source": [
        "A = {10,20,30,40,50}\n",
        "B = {40,50,60,70,80}\n",
        "print (\"A-B: \" ,A - B)\n",
        "print (\"B-A: \" ,B - A)"
      ],
      "execution_count": null,
      "outputs": [
        {
          "output_type": "stream",
          "text": [
            "A-B:  {10, 20, 30}\n",
            "B-A:  {80, 60, 70}\n"
          ],
          "name": "stdout"
        }
      ]
    }
  ]
}