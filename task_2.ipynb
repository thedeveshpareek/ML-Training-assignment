{
  "nbformat": 4,
  "nbformat_minor": 0,
  "metadata": {
    "colab": {
      "name": "task_2.ipynb",
      "provenance": [],
      "authorship_tag": "ABX9TyM8Kq4QUEWpUTk8dHN0BHvK",
      "include_colab_link": true
    },
    "kernelspec": {
      "name": "python3",
      "display_name": "Python 3"
    },
    "language_info": {
      "name": "python"
    }
  },
  "cells": [
    {
      "cell_type": "markdown",
      "metadata": {
        "id": "view-in-github",
        "colab_type": "text"
      },
      "source": [
        "<a href=\"https://colab.research.google.com/github/thedeveshpareek/ML-Training-assignment/blob/main/task_2.ipynb\" target=\"_parent\"><img src=\"https://colab.research.google.com/assets/colab-badge.svg\" alt=\"Open In Colab\"/></a>"
      ]
    },
    {
      "cell_type": "markdown",
      "metadata": {
        "id": "HXkE44s07T2i"
      },
      "source": [
        "# 1.Is a list mutable? \n",
        "ans. yes list is mutable."
      ]
    },
    {
      "cell_type": "code",
      "metadata": {
        "colab": {
          "base_uri": "https://localhost:8080/"
        },
        "id": "qRirYdeu7PL4",
        "outputId": "6162df9c-8358-41a4-b7fe-c1a3c0b20399"
      },
      "source": [
        "l1 = ['devesh','10','34']\n",
        "l1[1]=['pareek']\n",
        "print(l1)"
      ],
      "execution_count": null,
      "outputs": [
        {
          "output_type": "stream",
          "text": [
            "['devesh', ['pareek'], '34']\n"
          ],
          "name": "stdout"
        }
      ]
    },
    {
      "cell_type": "markdown",
      "metadata": {
        "id": "RNv2L3qx8aJ_"
      },
      "source": [
        "# 2. Does a list need to be homogeneous?\n",
        "\n",
        "Ans: No, list doen not need to be homogenous."
      ]
    },
    {
      "cell_type": "code",
      "metadata": {
        "colab": {
          "base_uri": "https://localhost:8080/"
        },
        "id": "NvFcHycx8JeO",
        "outputId": "eac5ab60-bedc-4f55-d27f-b07202fca7d7"
      },
      "source": [
        "l2 = [\"hello\", 10, 2.4]\n",
        "print(l2)\n"
      ],
      "execution_count": null,
      "outputs": [
        {
          "output_type": "stream",
          "text": [
            "['hello', 10, 2.4]\n"
          ],
          "name": "stdout"
        }
      ]
    },
    {
      "cell_type": "markdown",
      "metadata": {
        "id": "aNIOUJpv82kB"
      },
      "source": [
        "# 3. What is the difference between a list and a tuple?\n",
        "\n",
        "Ans: Lists are mutable while tuples are immutable."
      ]
    },
    {
      "cell_type": "code",
      "metadata": {
        "colab": {
          "base_uri": "https://localhost:8080/"
        },
        "id": "mzCKHj758vYH",
        "outputId": "18c0fe9d-1bc4-4feb-b124-95cfd888ee96"
      },
      "source": [
        "l1 = ['devesh','10','34']\n",
        "l1[1]=['pareek']\n",
        "print(l1)"
      ],
      "execution_count": null,
      "outputs": [
        {
          "output_type": "stream",
          "text": [
            "['devesh', ['pareek'], '34']\n"
          ],
          "name": "stdout"
        }
      ]
    },
    {
      "cell_type": "code",
      "metadata": {
        "colab": {
          "base_uri": "https://localhost:8080/",
          "height": 195
        },
        "id": "GQmEuSMQ9NaJ",
        "outputId": "c3ffea0a-7bb4-4fb2-db86-0f8ad62d01cc"
      },
      "source": [
        "t1=(\"devesh\",10,20)\n",
        "t1[1]=('pareek')\n",
        "print(t1)"
      ],
      "execution_count": null,
      "outputs": [
        {
          "output_type": "error",
          "ename": "TypeError",
          "evalue": "ignored",
          "traceback": [
            "\u001b[0;31m---------------------------------------------------------------------------\u001b[0m",
            "\u001b[0;31mTypeError\u001b[0m                                 Traceback (most recent call last)",
            "\u001b[0;32m<ipython-input-5-a140291ef3ef>\u001b[0m in \u001b[0;36m<module>\u001b[0;34m()\u001b[0m\n\u001b[1;32m      1\u001b[0m \u001b[0mt1\u001b[0m\u001b[0;34m=\u001b[0m\u001b[0;34m(\u001b[0m\u001b[0;34m\"devesh\"\u001b[0m\u001b[0;34m,\u001b[0m\u001b[0;36m10\u001b[0m\u001b[0;34m,\u001b[0m\u001b[0;36m20\u001b[0m\u001b[0;34m)\u001b[0m\u001b[0;34m\u001b[0m\u001b[0;34m\u001b[0m\u001b[0m\n\u001b[0;32m----> 2\u001b[0;31m \u001b[0mt1\u001b[0m\u001b[0;34m[\u001b[0m\u001b[0;36m1\u001b[0m\u001b[0;34m]\u001b[0m\u001b[0;34m=\u001b[0m\u001b[0;34m(\u001b[0m\u001b[0;34m'pareek'\u001b[0m\u001b[0;34m)\u001b[0m\u001b[0;34m\u001b[0m\u001b[0;34m\u001b[0m\u001b[0m\n\u001b[0m\u001b[1;32m      3\u001b[0m \u001b[0mprint\u001b[0m\u001b[0;34m(\u001b[0m\u001b[0mt1\u001b[0m\u001b[0;34m)\u001b[0m\u001b[0;34m\u001b[0m\u001b[0;34m\u001b[0m\u001b[0m\n",
            "\u001b[0;31mTypeError\u001b[0m: 'tuple' object does not support item assignment"
          ]
        }
      ]
    },
    {
      "cell_type": "markdown",
      "metadata": {
        "id": "3sif8soT9psv"
      },
      "source": [
        "# 4. How to find the number of elements in the list?\n",
        "\n",
        "Ans: By len() function."
      ]
    },
    {
      "cell_type": "code",
      "metadata": {
        "colab": {
          "base_uri": "https://localhost:8080/"
        },
        "id": "GXzA_ZkF9dLO",
        "outputId": "c0c63b4f-0999-40b1-d51d-a75ae65e0be3"
      },
      "source": [
        "len(l1)"
      ],
      "execution_count": null,
      "outputs": [
        {
          "output_type": "execute_result",
          "data": {
            "text/plain": [
              "3"
            ]
          },
          "metadata": {
            "tags": []
          },
          "execution_count": 6
        }
      ]
    },
    {
      "cell_type": "markdown",
      "metadata": {
        "id": "WqqiNxMh98kP"
      },
      "source": [
        "# 5. How to check whether the list is empty or not?"
      ]
    },
    {
      "cell_type": "code",
      "metadata": {
        "colab": {
          "base_uri": "https://localhost:8080/"
        },
        "id": "L-nx7n439w4G",
        "outputId": "3154a339-2566-4320-9f4b-cacafa409c86"
      },
      "source": [
        "l2=[]\n",
        "if len(l2)==0:\n",
        "  print(\"list is empty\")\n",
        "else:\n",
        "  print(\"list is not empty\")\n"
      ],
      "execution_count": null,
      "outputs": [
        {
          "output_type": "stream",
          "text": [
            "list is empty\n"
          ],
          "name": "stdout"
        }
      ]
    },
    {
      "cell_type": "markdown",
      "metadata": {
        "id": "5IBo14Mq_KQs"
      },
      "source": [
        "# 6. How to find the first and last element of the list?"
      ]
    },
    {
      "cell_type": "code",
      "metadata": {
        "colab": {
          "base_uri": "https://localhost:8080/"
        },
        "id": "N1UKXLve-ZfU",
        "outputId": "560d1d87-5e0c-4164-a827-5807af4a3a9d"
      },
      "source": [
        "print(l1)\n",
        "print(l1[0])\n",
        "print(l1[-1])"
      ],
      "execution_count": null,
      "outputs": [
        {
          "output_type": "stream",
          "text": [
            "['devesh', ['pareek'], '34']\n",
            "devesh\n",
            "34\n"
          ],
          "name": "stdout"
        }
      ]
    },
    {
      "cell_type": "markdown",
      "metadata": {
        "id": "HU1ZR7JT_2Cu"
      },
      "source": [
        "# 7.How to find the largest and lowest value in the list?"
      ]
    },
    {
      "cell_type": "code",
      "metadata": {
        "id": "xeD5xFDw_RV1",
        "colab": {
          "base_uri": "https://localhost:8080/"
        },
        "outputId": "2dafe950-283b-4731-e2c2-47620760dbae"
      },
      "source": [
        "l=[1,2,34,54,3,2,5,32,234,67]\n",
        "print({max(l)})\n",
        "print({min(l)})"
      ],
      "execution_count": null,
      "outputs": [
        {
          "output_type": "stream",
          "text": [
            "{234}\n",
            "{1}\n"
          ],
          "name": "stdout"
        }
      ]
    },
    {
      "cell_type": "markdown",
      "metadata": {
        "id": "qADB1yw_Atrc"
      },
      "source": [
        "# 8. How to access elements of the list?\n",
        "ans. by slicing.\n"
      ]
    },
    {
      "cell_type": "code",
      "metadata": {
        "colab": {
          "base_uri": "https://localhost:8080/"
        },
        "id": "yI42pgYuATRI",
        "outputId": "43ad7d30-b1bc-4791-c27b-2cbcf122eec6"
      },
      "source": [
        "print(l)\n",
        "print(f\" first element: {l[0]}\")\n",
        "print(f\" last element: {l[-1]}\")\n",
        "print(f\" first fifth elements: {l[:5]}\")\n",
        "print(f\" last fifth elements: {l[-5::]}\")"
      ],
      "execution_count": null,
      "outputs": [
        {
          "output_type": "stream",
          "text": [
            "[1, 2, 34, 54, 3, 2, 5, 32, 234, 67]\n",
            " first element: 1\n",
            " last element: 67\n",
            " first fifth elements: [1, 2, 34, 54, 3]\n",
            " last fifth elements: [2, 5, 32, 234, 67]\n"
          ],
          "name": "stdout"
        }
      ]
    },
    {
      "cell_type": "markdown",
      "metadata": {
        "id": "k4Nnn-_1DTyG"
      },
      "source": [
        "# 9. Remove elements in a list before a specific index"
      ]
    },
    {
      "cell_type": "code",
      "metadata": {
        "colab": {
          "base_uri": "https://localhost:8080/"
        },
        "id": "bifH0rSpBgTv",
        "outputId": "2f6b3d1b-6c85-4805-87f9-3f2ac61a3183"
      },
      "source": [
        "print(l)\n",
        "l.remove(l[0])\n",
        "print(l)\n",
        "l.pop(5)\n",
        "print(l)\n"
      ],
      "execution_count": null,
      "outputs": [
        {
          "output_type": "stream",
          "text": [
            "[2, 34, 54, 3, 2, 5, 32, 234, 67]\n",
            "[34, 54, 3, 2, 5, 32, 234, 67]\n",
            "[34, 54, 3, 2, 5, 234, 67]\n"
          ],
          "name": "stdout"
        }
      ]
    },
    {
      "cell_type": "markdown",
      "metadata": {
        "id": "QojzIK8sEMfc"
      },
      "source": [
        "# 10. Remove elements in a list between 2 indices."
      ]
    },
    {
      "cell_type": "code",
      "metadata": {
        "colab": {
          "base_uri": "https://localhost:8080/"
        },
        "id": "YouQlRKUBtV8",
        "outputId": "4e6c0e9f-76a5-4a56-ba21-6d14d0072e22"
      },
      "source": [
        "print(l)\n",
        "del l[0:1]\n",
        "print(\"after delete the element in the list :\" ,l)"
      ],
      "execution_count": null,
      "outputs": [
        {
          "output_type": "stream",
          "text": [
            "[34, 54, 3, 2, 5, 234, 67]\n",
            "after delete the element in the list : [54, 3, 2, 5, 234, 67]\n"
          ],
          "name": "stdout"
        }
      ]
    },
    {
      "cell_type": "markdown",
      "metadata": {
        "id": "WtWWpukXE71J"
      },
      "source": [
        "# 11. Return every 2nd element in a list between 2 indices."
      ]
    },
    {
      "cell_type": "code",
      "metadata": {
        "colab": {
          "base_uri": "https://localhost:8080/"
        },
        "id": "UOfwtP9OEfKg",
        "outputId": "7066fbd6-d81d-49c7-ba44-145fdf6fd5c2"
      },
      "source": [
        "len(l)\n",
        "print (\"every second element in a list\",l[0:6:2])"
      ],
      "execution_count": null,
      "outputs": [
        {
          "output_type": "stream",
          "text": [
            "every second element in a list [54, 2, 234]\n"
          ],
          "name": "stdout"
        }
      ]
    },
    {
      "cell_type": "markdown",
      "metadata": {
        "id": "p_z1KnOPFiX8"
      },
      "source": [
        "# 12. Get the first element from each nested list in a list."
      ]
    },
    {
      "cell_type": "code",
      "metadata": {
        "colab": {
          "base_uri": "https://localhost:8080/"
        },
        "id": "W6o7xHEhFAaC",
        "outputId": "a6a270d0-6126-4b8c-f3be-9623690954eb"
      },
      "source": [
        "l3=[[0,1,2],[3,4,5],[7,5,4]]\n",
        "for i in  l3:\n",
        "  print(i[0],end=\"\\n\")"
      ],
      "execution_count": null,
      "outputs": [
        {
          "output_type": "stream",
          "text": [
            "0\n",
            "3\n",
            "7\n"
          ],
          "name": "stdout"
        }
      ]
    },
    {
      "cell_type": "markdown",
      "metadata": {
        "id": "bfCisWv5Gr8B"
      },
      "source": [
        "## 13. How to modify elements of the list?"
      ]
    },
    {
      "cell_type": "code",
      "metadata": {
        "colab": {
          "base_uri": "https://localhost:8080/"
        },
        "id": "VIemJG3XGMZT",
        "outputId": "b5ab7ab8-9f4f-4ca8-ad5c-44b19f49c388"
      },
      "source": [
        "print(l)\n",
        "l[0]=\"devesh\"\n",
        "print(l)"
      ],
      "execution_count": null,
      "outputs": [
        {
          "output_type": "stream",
          "text": [
            "[54, 3, 2, 5, 234, 67]\n",
            "['devesh', 3, 2, 5, 234, 67]\n"
          ],
          "name": "stdout"
        }
      ]
    },
    {
      "cell_type": "markdown",
      "metadata": {
        "id": "hoqXsX1HHLxy"
      },
      "source": [
        "# 14. How to concatenate two lists?\n",
        "\n",
        "Ans: By '+' operator"
      ]
    },
    {
      "cell_type": "code",
      "metadata": {
        "id": "e9hQXCJtGkdr",
        "colab": {
          "base_uri": "https://localhost:8080/"
        },
        "outputId": "179c2206-62ea-47f1-ddd2-732ac13ece0a"
      },
      "source": [
        "print(l1,l)\n",
        "print(f\"{l1+l}\")"
      ],
      "execution_count": 41,
      "outputs": [
        {
          "output_type": "stream",
          "text": [
            "['devesh', ['pareek'], '34'] ['devesh', 3, 2, 5, 234, 67]\n",
            "['devesh', ['pareek'], '34', 'devesh', 3, 2, 5, 234, 67]\n"
          ],
          "name": "stdout"
        }
      ]
    },
    {
      "cell_type": "markdown",
      "metadata": {
        "id": "_rpXU-qyH5wY"
      },
      "source": [
        "# 15. How to add two lists element-wise in python?\n",
        "\n",
        "Ans: By mapping."
      ]
    },
    {
      "cell_type": "code",
      "metadata": {
        "colab": {
          "base_uri": "https://localhost:8080/"
        },
        "id": "H6JyzDG4HTol",
        "outputId": "8ba8d730-8366-475f-c0bf-2ab63634da71"
      },
      "source": [
        "from operator import add \n",
        "l4=[1,2,3,4]\n",
        "l5=[6,7,8,9]\n",
        "add_list=list(map(add, l4,l5))\n",
        "print(\"After adding the list :\", add_list)"
      ],
      "execution_count": 42,
      "outputs": [
        {
          "output_type": "stream",
          "text": [
            "After adding the list : [7, 9, 11, 13]\n"
          ],
          "name": "stdout"
        }
      ]
    },
    {
      "cell_type": "markdown",
      "metadata": {
        "id": "LNmpmHugI0y0"
      },
      "source": [
        "### 16. Difference between del and clear?\n",
        "\n",
        "Ans: The del keyword is used to delete objects. In Python everything is an object, so \n",
        "    the del keyword can also be used to delete variables, lists, or parts of a list etc.\n",
        "    The clear is used to clear the entire list."
      ]
    },
    {
      "cell_type": "markdown",
      "metadata": {
        "id": "2kSV8p4JJAtw"
      },
      "source": [
        "## 17. Difference between remove and pop?\n",
        "\n",
        "Ans: Remove is used to remove a specific item from the list \n",
        "    whereas pop delete the item from a particular index.\n"
      ]
    },
    {
      "cell_type": "markdown",
      "metadata": {
        "id": "2f11mi4CJMFL"
      },
      "source": [
        "## 18. Difference between append and extend?\n",
        "\n",
        "Ans: Append is used to add a single element in the list to the last position while\n",
        "     extend is used to add a series of elements in the list by assigning them in a single line."
      ]
    },
    {
      "cell_type": "markdown",
      "metadata": {
        "id": "-5rtE2u1JcjS"
      },
      "source": [
        "## 19. Difference between indexing and Slicing?\n",
        "\n",
        "Ans: Indexing is used to access a single element from the list while slicing is used to access series of elements\n",
        "     or we can say range of elements from the given list."
      ]
    },
    {
      "cell_type": "markdown",
      "metadata": {
        "id": "_l0iAtRKJqNS"
      },
      "source": [
        "## 20. Difference between sort and sorted?\n",
        "\n",
        "Ans: sort function will modify the list it is called on whereas the sorted function will create\n",
        "     a new list containing a sorted version of the given list."
      ]
    },
    {
      "cell_type": "markdown",
      "metadata": {
        "id": "lYHbwZUbJ5P3"
      },
      "source": [
        "# 21. Difference between reverse and reversed?\n",
        "\n",
        "Ans: Reverse function returns the reverse version of a list while reversed function not actually reverse the list, it returns an object that can be used to iterate over the container's elements in re"
      ]
    },
    {
      "cell_type": "markdown",
      "metadata": {
        "id": "oAVwmVizKG8J"
      },
      "source": [
        "## 22. Difference between copy and deepcopy?\n",
        "\n",
        "Ans: A shallow copy constructs a new compound object and then inserts references into it to the objects found in the original.\n",
        "     A deep copy constructs a new compound object and then \n",
        "     recursively, inserts copies into it of the objects found in the original."
      ]
    },
    {
      "cell_type": "markdown",
      "metadata": {
        "id": "xraf52uTKTMe"
      },
      "source": [
        "## 23. How to remove duplicate elements in the list?\n",
        "\n",
        "Ans: By using set function."
      ]
    },
    {
      "cell_type": "code",
      "metadata": {
        "colab": {
          "base_uri": "https://localhost:8080/"
        },
        "id": "KZZdyfVDJM08",
        "outputId": "6465ece2-164a-449b-8e56-9b25393d9880"
      },
      "source": [
        "print(l5)\n",
        "list(set(l5))"
      ],
      "execution_count": 44,
      "outputs": [
        {
          "output_type": "stream",
          "text": [
            "[6, 7, 8, 9]\n"
          ],
          "name": "stdout"
        },
        {
          "output_type": "execute_result",
          "data": {
            "text/plain": [
              "[8, 9, 6, 7]"
            ]
          },
          "metadata": {
            "tags": []
          },
          "execution_count": 44
        }
      ]
    },
    {
      "cell_type": "markdown",
      "metadata": {
        "id": "V42EvKenK23i"
      },
      "source": [
        "## 24. How to find an index of an element in the python list?\n",
        "\n",
        "Ans: By using index function."
      ]
    },
    {
      "cell_type": "code",
      "metadata": {
        "colab": {
          "base_uri": "https://localhost:8080/"
        },
        "id": "jyXAr5V-Khe6",
        "outputId": "6895642f-df3b-491a-c4e0-841c385f0a7d"
      },
      "source": [
        "print(l4)\n",
        "l4.index(1)"
      ],
      "execution_count": 48,
      "outputs": [
        {
          "output_type": "stream",
          "text": [
            "[1, 2, 3, 4]\n"
          ],
          "name": "stdout"
        },
        {
          "output_type": "execute_result",
          "data": {
            "text/plain": [
              "0"
            ]
          },
          "metadata": {
            "tags": []
          },
          "execution_count": 48
        }
      ]
    },
    {
      "cell_type": "markdown",
      "metadata": {
        "id": "vWZP0jGJLm5w"
      },
      "source": [
        "## 25. How to find the occurrences of an element in the python list?\n",
        "\n",
        "Ans: By count() function."
      ]
    },
    {
      "cell_type": "code",
      "metadata": {
        "colab": {
          "base_uri": "https://localhost:8080/"
        },
        "id": "DEutmMiOLEd7",
        "outputId": "49a022ee-d3d6-4be1-acdd-9e843908696b"
      },
      "source": [
        "l4.count(1)"
      ],
      "execution_count": 50,
      "outputs": [
        {
          "output_type": "execute_result",
          "data": {
            "text/plain": [
              "1"
            ]
          },
          "metadata": {
            "tags": []
          },
          "execution_count": 50
        }
      ]
    },
    {
      "cell_type": "markdown",
      "metadata": {
        "id": "vsJ8su15MEc0"
      },
      "source": [
        "## 26. How to insert an item at a given position?\n",
        "\n",
        "Ans: By insert() function."
      ]
    },
    {
      "cell_type": "code",
      "metadata": {
        "colab": {
          "base_uri": "https://localhost:8080/"
        },
        "id": "PmdAdplWLwwd",
        "outputId": "5d7bf9e3-c5bc-4e79-9f67-a9dcf399ffd6"
      },
      "source": [
        "print(l4)\n",
        "l4.insert(2,5)\n",
        "print(l4)"
      ],
      "execution_count": 51,
      "outputs": [
        {
          "output_type": "stream",
          "text": [
            "[1, 2, 3, 4]\n",
            "[1, 2, 5, 3, 4]\n"
          ],
          "name": "stdout"
        }
      ]
    },
    {
      "cell_type": "markdown",
      "metadata": {
        "id": "J-JMrKQdMj7y"
      },
      "source": [
        "## 27. How to check if an item is in the list?\n",
        "\n",
        "Ans: By simple in and not operator"
      ]
    },
    {
      "cell_type": "code",
      "metadata": {
        "colab": {
          "base_uri": "https://localhost:8080/"
        },
        "id": "D1-oePyFMLOi",
        "outputId": "ec41bba3-3096-49d3-dd44-be33964b8cae"
      },
      "source": [
        "if 2 in l4:\n",
        "    print(\"2 is in list.\")\n",
        "if 2 not in l4:\n",
        "    print(\"2 is not in list.\")"
      ],
      "execution_count": 54,
      "outputs": [
        {
          "output_type": "stream",
          "text": [
            "2 is in list.\n"
          ],
          "name": "stdout"
        }
      ]
    },
    {
      "cell_type": "markdown",
      "metadata": {
        "id": "4_UeZlRMNWIQ"
      },
      "source": [
        "## 28. How to flatten a list in python?\n",
        "\n",
        "Ans: By using nested loops, we can flatten a nested list."
      ]
    },
    {
      "cell_type": "code",
      "metadata": {
        "colab": {
          "base_uri": "https://localhost:8080/"
        },
        "id": "PcqV2yygNScG",
        "outputId": "888fc845-870c-4528-a85d-7134b556a635"
      },
      "source": [
        "a = [[1,2,3],[4,5,6],[7,8,9]]\n",
        "for i in a:\n",
        "    for item in i:\n",
        "        print(item, end=\" \")"
      ],
      "execution_count": 56,
      "outputs": [
        {
          "output_type": "stream",
          "text": [
            "1 2 3 4 5 6 7 8 9 "
          ],
          "name": "stdout"
        }
      ]
    },
    {
      "cell_type": "markdown",
      "metadata": {
        "id": "57y_ukCwNqcX"
      },
      "source": [
        "## 29. How to convert python list to other data structures like set, tuple, dictionary?\n",
        "\n",
        "Ans: By the concept of typecasting."
      ]
    },
    {
      "cell_type": "code",
      "metadata": {
        "colab": {
          "base_uri": "https://localhost:8080/"
        },
        "id": "N7JBkQkUNe58",
        "outputId": "c2c14b53-484f-4eba-cfa0-b156d786f956"
      },
      "source": [
        "\n",
        "b = [1,2,3,4,5]\n",
        "print(type(b))\n",
        "type(set(b))\n",
        "type(tuple(b))"
      ],
      "execution_count": 57,
      "outputs": [
        {
          "output_type": "stream",
          "text": [
            "<class 'list'>\n"
          ],
          "name": "stdout"
        },
        {
          "output_type": "execute_result",
          "data": {
            "text/plain": [
              "tuple"
            ]
          },
          "metadata": {
            "tags": []
          },
          "execution_count": 57
        }
      ]
    },
    {
      "cell_type": "markdown",
      "metadata": {
        "id": "uzTKcUMAN6eu"
      },
      "source": [
        "## 30. How to apply a function to all items in the list?"
      ]
    },
    {
      "cell_type": "code",
      "metadata": {
        "colab": {
          "base_uri": "https://localhost:8080/"
        },
        "id": "BUQfd_bON0T6",
        "outputId": "8688e04e-9b70-458f-8549-df33ad2f5901"
      },
      "source": [
        "def double(integer):\n",
        "    return integer*2\n",
        "integer_list = [1, 2, 3]\n",
        "\n",
        "output_list = list(map(double, integer_list))\n",
        "  \n",
        "print(output_list)"
      ],
      "execution_count": 58,
      "outputs": [
        {
          "output_type": "stream",
          "text": [
            "[2, 4, 6]\n"
          ],
          "name": "stdout"
        }
      ]
    },
    {
      "cell_type": "markdown",
      "metadata": {
        "id": "BPc_mPtCOges"
      },
      "source": [
        "## 31. How to filter the elements based on a function in a python list?"
      ]
    },
    {
      "cell_type": "code",
      "metadata": {
        "colab": {
          "base_uri": "https://localhost:8080/"
        },
        "id": "OHXS4UNOOWML",
        "outputId": "1e94357d-31e2-4337-9f4d-abdcf029d839"
      },
      "source": [
        "d = [1,2,3,4,5,6,7,8,9]\n",
        "d_filtered = filter(lambda item: item>6, d)\n",
        "print(\"Fitered list: \", list(d_filtered))"
      ],
      "execution_count": 59,
      "outputs": [
        {
          "output_type": "stream",
          "text": [
            "Fitered list:  [7, 8, 9]\n"
          ],
          "name": "stdout"
        }
      ]
    },
    {
      "cell_type": "markdown",
      "metadata": {
        "id": "T8Ug9yAKOvuc"
      },
      "source": [
        "## 32. How python lists are stored in memory?\n",
        "\n",
        "Ans: lists are stored in distinct chunks of memory which are linked together with \n",
        "     pointers, which enables efficient use of memory generally and \n",
        "     doesnt require resizing."
      ]
    },
    {
      "cell_type": "code",
      "metadata": {
        "id": "HnsHLYmUOo6d"
      },
      "source": [
        ""
      ],
      "execution_count": null,
      "outputs": []
    }
  ]
}