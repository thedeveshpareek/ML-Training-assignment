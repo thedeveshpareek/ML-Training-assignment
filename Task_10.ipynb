{
  "nbformat": 4,
  "nbformat_minor": 0,
  "metadata": {
    "colab": {
      "name": "Task 10.ipynb",
      "provenance": [],
      "collapsed_sections": [],
      "include_colab_link": true
    },
    "kernelspec": {
      "name": "python3",
      "display_name": "Python 3"
    },
    "language_info": {
      "name": "python"
    }
  },
  "cells": [
    {
      "cell_type": "markdown",
      "metadata": {
        "id": "view-in-github",
        "colab_type": "text"
      },
      "source": [
        "<a href=\"https://colab.research.google.com/github/thedeveshpareek/ML-Training-assignment/blob/main/Task_10.ipynb\" target=\"_parent\"><img src=\"https://colab.research.google.com/assets/colab-badge.svg\" alt=\"Open In Colab\"/></a>"
      ]
    },
    {
      "cell_type": "markdown",
      "metadata": {
        "id": "fln6x96O9gER"
      },
      "source": [
        "\n",
        "Task 10\n",
        "\n",
        "GO_STP_8589"
      ]
    },
    {
      "cell_type": "markdown",
      "metadata": {
        "id": "buVSqNG6-bV7"
      },
      "source": [
        "Onehotencoding : A one hot encoding allows the representation of categorical data to be more expressive. Many machine learning algorithms cannot work with categorical data directly. ... When a one hot encoding is used for the output variable, it may offer a more nuanced set of predictions than a single label.\n",
        "\n",
        "Multicollinearity : Multicollinearity exists whenever an independent variable is highly correlated with one or more of the other independent variables in a multiple regression equation. Multicollinearity is a problem because it undermines the statistical significance of an independent variable.\n",
        "\n",
        "\n",
        "Dummy variable trap : The Dummy Variable trap is a scenario in which the independent variables are multicollinear - a scenario in which two or more variables are highly correlated; in simple terms one variable can be predicted from the others. To demonstrate the Dummy Variable Trap, take the case of gender (male/female) as an example.\n",
        "\n",
        "Nominal and ordinal Variables : Nominal data is a group of non-parametric variables, while Ordinal data is a group of non-parametric ordered variables. Although, they are both non-parametric variables, what differentiates them is the fact that ordinal data is placed into some kind of order by their position."
      ]
    },
    {
      "cell_type": "code",
      "metadata": {
        "colab": {
          "base_uri": "https://localhost:8080/",
          "height": 204
        },
        "id": "rdn9uneg9oe0",
        "outputId": "565fc6d2-adc5-4b08-a019-7fd1a9e67ae9"
      },
      "source": [
        "import numpy as np\n",
        "import pandas as pd\n",
        "df = pd.read_table(\"/content/salary.txt\",delim_whitespace=True)\n",
        "df.head()"
      ],
      "execution_count": null,
      "outputs": [
        {
          "output_type": "execute_result",
          "data": {
            "text/html": [
              "<div>\n",
              "<style scoped>\n",
              "    .dataframe tbody tr th:only-of-type {\n",
              "        vertical-align: middle;\n",
              "    }\n",
              "\n",
              "    .dataframe tbody tr th {\n",
              "        vertical-align: top;\n",
              "    }\n",
              "\n",
              "    .dataframe thead th {\n",
              "        text-align: right;\n",
              "    }\n",
              "</style>\n",
              "<table border=\"1\" class=\"dataframe\">\n",
              "  <thead>\n",
              "    <tr style=\"text-align: right;\">\n",
              "      <th></th>\n",
              "      <th>sx</th>\n",
              "      <th>rk</th>\n",
              "      <th>yr</th>\n",
              "      <th>dg</th>\n",
              "      <th>yd</th>\n",
              "      <th>sl</th>\n",
              "    </tr>\n",
              "  </thead>\n",
              "  <tbody>\n",
              "    <tr>\n",
              "      <th>0</th>\n",
              "      <td>male</td>\n",
              "      <td>full</td>\n",
              "      <td>25</td>\n",
              "      <td>doctorate</td>\n",
              "      <td>35</td>\n",
              "      <td>36350</td>\n",
              "    </tr>\n",
              "    <tr>\n",
              "      <th>1</th>\n",
              "      <td>male</td>\n",
              "      <td>full</td>\n",
              "      <td>13</td>\n",
              "      <td>doctorate</td>\n",
              "      <td>22</td>\n",
              "      <td>35350</td>\n",
              "    </tr>\n",
              "    <tr>\n",
              "      <th>2</th>\n",
              "      <td>male</td>\n",
              "      <td>full</td>\n",
              "      <td>10</td>\n",
              "      <td>doctorate</td>\n",
              "      <td>23</td>\n",
              "      <td>28200</td>\n",
              "    </tr>\n",
              "    <tr>\n",
              "      <th>3</th>\n",
              "      <td>female</td>\n",
              "      <td>full</td>\n",
              "      <td>7</td>\n",
              "      <td>doctorate</td>\n",
              "      <td>27</td>\n",
              "      <td>26775</td>\n",
              "    </tr>\n",
              "    <tr>\n",
              "      <th>4</th>\n",
              "      <td>male</td>\n",
              "      <td>full</td>\n",
              "      <td>19</td>\n",
              "      <td>masters</td>\n",
              "      <td>30</td>\n",
              "      <td>33696</td>\n",
              "    </tr>\n",
              "  </tbody>\n",
              "</table>\n",
              "</div>"
            ],
            "text/plain": [
              "       sx    rk  yr         dg  yd     sl\n",
              "0    male  full  25  doctorate  35  36350\n",
              "1    male  full  13  doctorate  22  35350\n",
              "2    male  full  10  doctorate  23  28200\n",
              "3  female  full   7  doctorate  27  26775\n",
              "4    male  full  19    masters  30  33696"
            ]
          },
          "metadata": {
            "tags": []
          },
          "execution_count": 34
        }
      ]
    },
    {
      "cell_type": "code",
      "metadata": {
        "colab": {
          "base_uri": "https://localhost:8080/"
        },
        "id": "MA-bqA7j_oAE",
        "outputId": "f9f65a58-ffd7-4e7e-bd85-44328fb434ba"
      },
      "source": [
        "df.info()"
      ],
      "execution_count": null,
      "outputs": [
        {
          "output_type": "stream",
          "text": [
            "<class 'pandas.core.frame.DataFrame'>\n",
            "RangeIndex: 52 entries, 0 to 51\n",
            "Data columns (total 6 columns):\n",
            " #   Column  Non-Null Count  Dtype \n",
            "---  ------  --------------  ----- \n",
            " 0   sx      52 non-null     object\n",
            " 1   rk      52 non-null     object\n",
            " 2   yr      52 non-null     int64 \n",
            " 3   dg      52 non-null     object\n",
            " 4   yd      52 non-null     int64 \n",
            " 5   sl      52 non-null     int64 \n",
            "dtypes: int64(3), object(3)\n",
            "memory usage: 2.6+ KB\n"
          ],
          "name": "stdout"
        }
      ]
    },
    {
      "cell_type": "code",
      "metadata": {
        "colab": {
          "base_uri": "https://localhost:8080/"
        },
        "id": "xj3TxmgoDjiA",
        "outputId": "2177c40e-771b-4873-ba16-878eb5453d91"
      },
      "source": [
        "df.keys()"
      ],
      "execution_count": null,
      "outputs": [
        {
          "output_type": "execute_result",
          "data": {
            "text/plain": [
              "Index(['sx', 'rk', 'yr', 'dg', 'yd', 'sl'], dtype='object')"
            ]
          },
          "metadata": {
            "tags": []
          },
          "execution_count": 36
        }
      ]
    },
    {
      "cell_type": "code",
      "metadata": {
        "colab": {
          "base_uri": "https://localhost:8080/",
          "height": 204
        },
        "id": "qE2_2abcACpe",
        "outputId": "e769dcd5-456f-4a53-8b81-1066a008623e"
      },
      "source": [
        "dummies = pd.get_dummies(df,columns=['sx','rk','dg'])\n",
        "dummies.head()"
      ],
      "execution_count": null,
      "outputs": [
        {
          "output_type": "execute_result",
          "data": {
            "text/html": [
              "<div>\n",
              "<style scoped>\n",
              "    .dataframe tbody tr th:only-of-type {\n",
              "        vertical-align: middle;\n",
              "    }\n",
              "\n",
              "    .dataframe tbody tr th {\n",
              "        vertical-align: top;\n",
              "    }\n",
              "\n",
              "    .dataframe thead th {\n",
              "        text-align: right;\n",
              "    }\n",
              "</style>\n",
              "<table border=\"1\" class=\"dataframe\">\n",
              "  <thead>\n",
              "    <tr style=\"text-align: right;\">\n",
              "      <th></th>\n",
              "      <th>yr</th>\n",
              "      <th>yd</th>\n",
              "      <th>sl</th>\n",
              "      <th>sx_female</th>\n",
              "      <th>sx_male</th>\n",
              "      <th>rk_assistant</th>\n",
              "      <th>rk_associate</th>\n",
              "      <th>rk_full</th>\n",
              "      <th>dg_doctorate</th>\n",
              "      <th>dg_masters</th>\n",
              "    </tr>\n",
              "  </thead>\n",
              "  <tbody>\n",
              "    <tr>\n",
              "      <th>0</th>\n",
              "      <td>25</td>\n",
              "      <td>35</td>\n",
              "      <td>36350</td>\n",
              "      <td>0</td>\n",
              "      <td>1</td>\n",
              "      <td>0</td>\n",
              "      <td>0</td>\n",
              "      <td>1</td>\n",
              "      <td>1</td>\n",
              "      <td>0</td>\n",
              "    </tr>\n",
              "    <tr>\n",
              "      <th>1</th>\n",
              "      <td>13</td>\n",
              "      <td>22</td>\n",
              "      <td>35350</td>\n",
              "      <td>0</td>\n",
              "      <td>1</td>\n",
              "      <td>0</td>\n",
              "      <td>0</td>\n",
              "      <td>1</td>\n",
              "      <td>1</td>\n",
              "      <td>0</td>\n",
              "    </tr>\n",
              "    <tr>\n",
              "      <th>2</th>\n",
              "      <td>10</td>\n",
              "      <td>23</td>\n",
              "      <td>28200</td>\n",
              "      <td>0</td>\n",
              "      <td>1</td>\n",
              "      <td>0</td>\n",
              "      <td>0</td>\n",
              "      <td>1</td>\n",
              "      <td>1</td>\n",
              "      <td>0</td>\n",
              "    </tr>\n",
              "    <tr>\n",
              "      <th>3</th>\n",
              "      <td>7</td>\n",
              "      <td>27</td>\n",
              "      <td>26775</td>\n",
              "      <td>1</td>\n",
              "      <td>0</td>\n",
              "      <td>0</td>\n",
              "      <td>0</td>\n",
              "      <td>1</td>\n",
              "      <td>1</td>\n",
              "      <td>0</td>\n",
              "    </tr>\n",
              "    <tr>\n",
              "      <th>4</th>\n",
              "      <td>19</td>\n",
              "      <td>30</td>\n",
              "      <td>33696</td>\n",
              "      <td>0</td>\n",
              "      <td>1</td>\n",
              "      <td>0</td>\n",
              "      <td>0</td>\n",
              "      <td>1</td>\n",
              "      <td>0</td>\n",
              "      <td>1</td>\n",
              "    </tr>\n",
              "  </tbody>\n",
              "</table>\n",
              "</div>"
            ],
            "text/plain": [
              "   yr  yd     sl  sx_female  ...  rk_associate  rk_full  dg_doctorate  dg_masters\n",
              "0  25  35  36350          0  ...             0        1             1           0\n",
              "1  13  22  35350          0  ...             0        1             1           0\n",
              "2  10  23  28200          0  ...             0        1             1           0\n",
              "3   7  27  26775          1  ...             0        1             1           0\n",
              "4  19  30  33696          0  ...             0        1             0           1\n",
              "\n",
              "[5 rows x 10 columns]"
            ]
          },
          "metadata": {
            "tags": []
          },
          "execution_count": 37
        }
      ]
    },
    {
      "cell_type": "code",
      "metadata": {
        "colab": {
          "base_uri": "https://localhost:8080/",
          "height": 204
        },
        "id": "ZVEHv1ONAhOG",
        "outputId": "0fb5c2e1-2e83-4084-abad-4a0756ccd498"
      },
      "source": [
        "merge = pd.concat([df,dummies],axis='columns')\n",
        "merge.head()"
      ],
      "execution_count": null,
      "outputs": [
        {
          "output_type": "execute_result",
          "data": {
            "text/html": [
              "<div>\n",
              "<style scoped>\n",
              "    .dataframe tbody tr th:only-of-type {\n",
              "        vertical-align: middle;\n",
              "    }\n",
              "\n",
              "    .dataframe tbody tr th {\n",
              "        vertical-align: top;\n",
              "    }\n",
              "\n",
              "    .dataframe thead th {\n",
              "        text-align: right;\n",
              "    }\n",
              "</style>\n",
              "<table border=\"1\" class=\"dataframe\">\n",
              "  <thead>\n",
              "    <tr style=\"text-align: right;\">\n",
              "      <th></th>\n",
              "      <th>sx</th>\n",
              "      <th>rk</th>\n",
              "      <th>yr</th>\n",
              "      <th>dg</th>\n",
              "      <th>yd</th>\n",
              "      <th>sl</th>\n",
              "      <th>yr</th>\n",
              "      <th>yd</th>\n",
              "      <th>sl</th>\n",
              "      <th>sx_female</th>\n",
              "      <th>sx_male</th>\n",
              "      <th>rk_assistant</th>\n",
              "      <th>rk_associate</th>\n",
              "      <th>rk_full</th>\n",
              "      <th>dg_doctorate</th>\n",
              "      <th>dg_masters</th>\n",
              "    </tr>\n",
              "  </thead>\n",
              "  <tbody>\n",
              "    <tr>\n",
              "      <th>0</th>\n",
              "      <td>male</td>\n",
              "      <td>full</td>\n",
              "      <td>25</td>\n",
              "      <td>doctorate</td>\n",
              "      <td>35</td>\n",
              "      <td>36350</td>\n",
              "      <td>25</td>\n",
              "      <td>35</td>\n",
              "      <td>36350</td>\n",
              "      <td>0</td>\n",
              "      <td>1</td>\n",
              "      <td>0</td>\n",
              "      <td>0</td>\n",
              "      <td>1</td>\n",
              "      <td>1</td>\n",
              "      <td>0</td>\n",
              "    </tr>\n",
              "    <tr>\n",
              "      <th>1</th>\n",
              "      <td>male</td>\n",
              "      <td>full</td>\n",
              "      <td>13</td>\n",
              "      <td>doctorate</td>\n",
              "      <td>22</td>\n",
              "      <td>35350</td>\n",
              "      <td>13</td>\n",
              "      <td>22</td>\n",
              "      <td>35350</td>\n",
              "      <td>0</td>\n",
              "      <td>1</td>\n",
              "      <td>0</td>\n",
              "      <td>0</td>\n",
              "      <td>1</td>\n",
              "      <td>1</td>\n",
              "      <td>0</td>\n",
              "    </tr>\n",
              "    <tr>\n",
              "      <th>2</th>\n",
              "      <td>male</td>\n",
              "      <td>full</td>\n",
              "      <td>10</td>\n",
              "      <td>doctorate</td>\n",
              "      <td>23</td>\n",
              "      <td>28200</td>\n",
              "      <td>10</td>\n",
              "      <td>23</td>\n",
              "      <td>28200</td>\n",
              "      <td>0</td>\n",
              "      <td>1</td>\n",
              "      <td>0</td>\n",
              "      <td>0</td>\n",
              "      <td>1</td>\n",
              "      <td>1</td>\n",
              "      <td>0</td>\n",
              "    </tr>\n",
              "    <tr>\n",
              "      <th>3</th>\n",
              "      <td>female</td>\n",
              "      <td>full</td>\n",
              "      <td>7</td>\n",
              "      <td>doctorate</td>\n",
              "      <td>27</td>\n",
              "      <td>26775</td>\n",
              "      <td>7</td>\n",
              "      <td>27</td>\n",
              "      <td>26775</td>\n",
              "      <td>1</td>\n",
              "      <td>0</td>\n",
              "      <td>0</td>\n",
              "      <td>0</td>\n",
              "      <td>1</td>\n",
              "      <td>1</td>\n",
              "      <td>0</td>\n",
              "    </tr>\n",
              "    <tr>\n",
              "      <th>4</th>\n",
              "      <td>male</td>\n",
              "      <td>full</td>\n",
              "      <td>19</td>\n",
              "      <td>masters</td>\n",
              "      <td>30</td>\n",
              "      <td>33696</td>\n",
              "      <td>19</td>\n",
              "      <td>30</td>\n",
              "      <td>33696</td>\n",
              "      <td>0</td>\n",
              "      <td>1</td>\n",
              "      <td>0</td>\n",
              "      <td>0</td>\n",
              "      <td>1</td>\n",
              "      <td>0</td>\n",
              "      <td>1</td>\n",
              "    </tr>\n",
              "  </tbody>\n",
              "</table>\n",
              "</div>"
            ],
            "text/plain": [
              "       sx    rk  yr         dg  ...  rk_associate  rk_full  dg_doctorate  dg_masters\n",
              "0    male  full  25  doctorate  ...             0        1             1           0\n",
              "1    male  full  13  doctorate  ...             0        1             1           0\n",
              "2    male  full  10  doctorate  ...             0        1             1           0\n",
              "3  female  full   7  doctorate  ...             0        1             1           0\n",
              "4    male  full  19    masters  ...             0        1             0           1\n",
              "\n",
              "[5 rows x 16 columns]"
            ]
          },
          "metadata": {
            "tags": []
          },
          "execution_count": 38
        }
      ]
    },
    {
      "cell_type": "code",
      "metadata": {
        "colab": {
          "base_uri": "https://localhost:8080/",
          "height": 204
        },
        "id": "_lkS34igF2vq",
        "outputId": "73270e7f-2041-4c49-81bf-8a3b730753f0"
      },
      "source": [
        "final = merge.drop(['sx','rk','dg','sx_male','rk_full','dg_masters'],axis='columns')\n",
        "final.head()"
      ],
      "execution_count": null,
      "outputs": [
        {
          "output_type": "execute_result",
          "data": {
            "text/html": [
              "<div>\n",
              "<style scoped>\n",
              "    .dataframe tbody tr th:only-of-type {\n",
              "        vertical-align: middle;\n",
              "    }\n",
              "\n",
              "    .dataframe tbody tr th {\n",
              "        vertical-align: top;\n",
              "    }\n",
              "\n",
              "    .dataframe thead th {\n",
              "        text-align: right;\n",
              "    }\n",
              "</style>\n",
              "<table border=\"1\" class=\"dataframe\">\n",
              "  <thead>\n",
              "    <tr style=\"text-align: right;\">\n",
              "      <th></th>\n",
              "      <th>yr</th>\n",
              "      <th>yd</th>\n",
              "      <th>sl</th>\n",
              "      <th>yr</th>\n",
              "      <th>yd</th>\n",
              "      <th>sl</th>\n",
              "      <th>sx_female</th>\n",
              "      <th>rk_assistant</th>\n",
              "      <th>rk_associate</th>\n",
              "      <th>dg_doctorate</th>\n",
              "    </tr>\n",
              "  </thead>\n",
              "  <tbody>\n",
              "    <tr>\n",
              "      <th>0</th>\n",
              "      <td>25</td>\n",
              "      <td>35</td>\n",
              "      <td>36350</td>\n",
              "      <td>25</td>\n",
              "      <td>35</td>\n",
              "      <td>36350</td>\n",
              "      <td>0</td>\n",
              "      <td>0</td>\n",
              "      <td>0</td>\n",
              "      <td>1</td>\n",
              "    </tr>\n",
              "    <tr>\n",
              "      <th>1</th>\n",
              "      <td>13</td>\n",
              "      <td>22</td>\n",
              "      <td>35350</td>\n",
              "      <td>13</td>\n",
              "      <td>22</td>\n",
              "      <td>35350</td>\n",
              "      <td>0</td>\n",
              "      <td>0</td>\n",
              "      <td>0</td>\n",
              "      <td>1</td>\n",
              "    </tr>\n",
              "    <tr>\n",
              "      <th>2</th>\n",
              "      <td>10</td>\n",
              "      <td>23</td>\n",
              "      <td>28200</td>\n",
              "      <td>10</td>\n",
              "      <td>23</td>\n",
              "      <td>28200</td>\n",
              "      <td>0</td>\n",
              "      <td>0</td>\n",
              "      <td>0</td>\n",
              "      <td>1</td>\n",
              "    </tr>\n",
              "    <tr>\n",
              "      <th>3</th>\n",
              "      <td>7</td>\n",
              "      <td>27</td>\n",
              "      <td>26775</td>\n",
              "      <td>7</td>\n",
              "      <td>27</td>\n",
              "      <td>26775</td>\n",
              "      <td>1</td>\n",
              "      <td>0</td>\n",
              "      <td>0</td>\n",
              "      <td>1</td>\n",
              "    </tr>\n",
              "    <tr>\n",
              "      <th>4</th>\n",
              "      <td>19</td>\n",
              "      <td>30</td>\n",
              "      <td>33696</td>\n",
              "      <td>19</td>\n",
              "      <td>30</td>\n",
              "      <td>33696</td>\n",
              "      <td>0</td>\n",
              "      <td>0</td>\n",
              "      <td>0</td>\n",
              "      <td>0</td>\n",
              "    </tr>\n",
              "  </tbody>\n",
              "</table>\n",
              "</div>"
            ],
            "text/plain": [
              "   yr  yd     sl  yr  ...  sx_female  rk_assistant  rk_associate  dg_doctorate\n",
              "0  25  35  36350  25  ...          0             0             0             1\n",
              "1  13  22  35350  13  ...          0             0             0             1\n",
              "2  10  23  28200  10  ...          0             0             0             1\n",
              "3   7  27  26775   7  ...          1             0             0             1\n",
              "4  19  30  33696  19  ...          0             0             0             0\n",
              "\n",
              "[5 rows x 10 columns]"
            ]
          },
          "metadata": {
            "tags": []
          },
          "execution_count": 39
        }
      ]
    },
    {
      "cell_type": "markdown",
      "metadata": {
        "id": "qO4OolwtGg0u"
      },
      "source": [
        "#OneHotEncoding"
      ]
    },
    {
      "cell_type": "code",
      "metadata": {
        "id": "7viRIQbzGQ4E"
      },
      "source": [
        "from sklearn.preprocessing import LabelEncoder\n",
        "le = LabelEncoder()"
      ],
      "execution_count": null,
      "outputs": []
    },
    {
      "cell_type": "code",
      "metadata": {
        "colab": {
          "base_uri": "https://localhost:8080/",
          "height": 204
        },
        "id": "aNIZwm9-GmmO",
        "outputId": "1299993a-b925-43c5-a0c7-b56cb2bff762"
      },
      "source": [
        "newdf = df\n",
        "\n",
        "newdf.sx = le.fit_transform(newdf.sx)\n",
        "newdf.rk = le.fit_transform(newdf.rk)\n",
        "newdf.dg = le.fit_transform(newdf.dg)\n",
        "newdf.head()"
      ],
      "execution_count": null,
      "outputs": [
        {
          "output_type": "execute_result",
          "data": {
            "text/html": [
              "<div>\n",
              "<style scoped>\n",
              "    .dataframe tbody tr th:only-of-type {\n",
              "        vertical-align: middle;\n",
              "    }\n",
              "\n",
              "    .dataframe tbody tr th {\n",
              "        vertical-align: top;\n",
              "    }\n",
              "\n",
              "    .dataframe thead th {\n",
              "        text-align: right;\n",
              "    }\n",
              "</style>\n",
              "<table border=\"1\" class=\"dataframe\">\n",
              "  <thead>\n",
              "    <tr style=\"text-align: right;\">\n",
              "      <th></th>\n",
              "      <th>sx</th>\n",
              "      <th>rk</th>\n",
              "      <th>yr</th>\n",
              "      <th>dg</th>\n",
              "      <th>yd</th>\n",
              "      <th>sl</th>\n",
              "    </tr>\n",
              "  </thead>\n",
              "  <tbody>\n",
              "    <tr>\n",
              "      <th>0</th>\n",
              "      <td>1</td>\n",
              "      <td>2</td>\n",
              "      <td>25</td>\n",
              "      <td>0</td>\n",
              "      <td>35</td>\n",
              "      <td>36350</td>\n",
              "    </tr>\n",
              "    <tr>\n",
              "      <th>1</th>\n",
              "      <td>1</td>\n",
              "      <td>2</td>\n",
              "      <td>13</td>\n",
              "      <td>0</td>\n",
              "      <td>22</td>\n",
              "      <td>35350</td>\n",
              "    </tr>\n",
              "    <tr>\n",
              "      <th>2</th>\n",
              "      <td>1</td>\n",
              "      <td>2</td>\n",
              "      <td>10</td>\n",
              "      <td>0</td>\n",
              "      <td>23</td>\n",
              "      <td>28200</td>\n",
              "    </tr>\n",
              "    <tr>\n",
              "      <th>3</th>\n",
              "      <td>0</td>\n",
              "      <td>2</td>\n",
              "      <td>7</td>\n",
              "      <td>0</td>\n",
              "      <td>27</td>\n",
              "      <td>26775</td>\n",
              "    </tr>\n",
              "    <tr>\n",
              "      <th>4</th>\n",
              "      <td>1</td>\n",
              "      <td>2</td>\n",
              "      <td>19</td>\n",
              "      <td>1</td>\n",
              "      <td>30</td>\n",
              "      <td>33696</td>\n",
              "    </tr>\n",
              "  </tbody>\n",
              "</table>\n",
              "</div>"
            ],
            "text/plain": [
              "   sx  rk  yr  dg  yd     sl\n",
              "0   1   2  25   0  35  36350\n",
              "1   1   2  13   0  22  35350\n",
              "2   1   2  10   0  23  28200\n",
              "3   0   2   7   0  27  26775\n",
              "4   1   2  19   1  30  33696"
            ]
          },
          "metadata": {
            "tags": []
          },
          "execution_count": 27
        }
      ]
    },
    {
      "cell_type": "code",
      "metadata": {
        "id": "De8taRHEGuPD"
      },
      "source": [
        "from sklearn.preprocessing import OneHotEncoder\n",
        "\n",
        "from sklearn.compose import ColumnTransformer\n",
        "\n",
        "ct = ColumnTransformer([('encoder',OneHotEncoder(),[0,1,3])],remainder = 'passthrough')"
      ],
      "execution_count": null,
      "outputs": []
    },
    {
      "cell_type": "code",
      "metadata": {
        "colab": {
          "base_uri": "https://localhost:8080/"
        },
        "id": "rXA9R3qKHNeo",
        "outputId": "11294d1c-67fd-4c09-cb08-9856c023a940"
      },
      "source": [
        "newct = np.array(ct.fit_transform(df), dtype = str)\n",
        "newct"
      ],
      "execution_count": null,
      "outputs": [
        {
          "output_type": "execute_result",
          "data": {
            "text/plain": [
              "array([['0.0', '1.0', '0.0', '0.0', '1.0', '1.0', '0.0', '25.0', '35.0',\n",
              "        '36350.0'],\n",
              "       ['0.0', '1.0', '0.0', '0.0', '1.0', '1.0', '0.0', '13.0', '22.0',\n",
              "        '35350.0'],\n",
              "       ['0.0', '1.0', '0.0', '0.0', '1.0', '1.0', '0.0', '10.0', '23.0',\n",
              "        '28200.0'],\n",
              "       ['1.0', '0.0', '0.0', '0.0', '1.0', '1.0', '0.0', '7.0', '27.0',\n",
              "        '26775.0'],\n",
              "       ['0.0', '1.0', '0.0', '0.0', '1.0', '0.0', '1.0', '19.0', '30.0',\n",
              "        '33696.0'],\n",
              "       ['0.0', '1.0', '0.0', '0.0', '1.0', '1.0', '0.0', '16.0', '21.0',\n",
              "        '28516.0'],\n",
              "       ['1.0', '0.0', '0.0', '0.0', '1.0', '0.0', '1.0', '0.0', '32.0',\n",
              "        '24900.0'],\n",
              "       ['0.0', '1.0', '0.0', '0.0', '1.0', '1.0', '0.0', '16.0', '18.0',\n",
              "        '31909.0'],\n",
              "       ['0.0', '1.0', '0.0', '0.0', '1.0', '0.0', '1.0', '13.0', '30.0',\n",
              "        '31850.0'],\n",
              "       ['0.0', '1.0', '0.0', '0.0', '1.0', '0.0', '1.0', '13.0', '31.0',\n",
              "        '32850.0'],\n",
              "       ['0.0', '1.0', '0.0', '0.0', '1.0', '1.0', '0.0', '12.0', '22.0',\n",
              "        '27025.0'],\n",
              "       ['0.0', '1.0', '0.0', '1.0', '0.0', '1.0', '0.0', '15.0', '19.0',\n",
              "        '24750.0'],\n",
              "       ['0.0', '1.0', '0.0', '0.0', '1.0', '1.0', '0.0', '9.0', '17.0',\n",
              "        '28200.0'],\n",
              "       ['0.0', '1.0', '0.0', '1.0', '0.0', '0.0', '1.0', '9.0', '27.0',\n",
              "        '23712.0'],\n",
              "       ['0.0', '1.0', '0.0', '0.0', '1.0', '1.0', '0.0', '9.0', '24.0',\n",
              "        '25748.0'],\n",
              "       ['0.0', '1.0', '0.0', '0.0', '1.0', '1.0', '0.0', '7.0', '15.0',\n",
              "        '29342.0'],\n",
              "       ['0.0', '1.0', '0.0', '0.0', '1.0', '1.0', '0.0', '13.0', '20.0',\n",
              "        '31114.0'],\n",
              "       ['0.0', '1.0', '0.0', '1.0', '0.0', '0.0', '1.0', '11.0', '14.0',\n",
              "        '24742.0'],\n",
              "       ['0.0', '1.0', '0.0', '1.0', '0.0', '0.0', '1.0', '10.0', '15.0',\n",
              "        '22906.0'],\n",
              "       ['0.0', '1.0', '0.0', '0.0', '1.0', '0.0', '1.0', '6.0', '21.0',\n",
              "        '24450.0'],\n",
              "       ['0.0', '1.0', '1.0', '0.0', '0.0', '0.0', '1.0', '16.0', '23.0',\n",
              "        '19175.0'],\n",
              "       ['0.0', '1.0', '0.0', '1.0', '0.0', '0.0', '1.0', '8.0', '31.0',\n",
              "        '20525.0'],\n",
              "       ['0.0', '1.0', '0.0', '0.0', '1.0', '1.0', '0.0', '7.0', '13.0',\n",
              "        '27959.0'],\n",
              "       ['1.0', '0.0', '0.0', '0.0', '1.0', '1.0', '0.0', '8.0', '24.0',\n",
              "        '38045.0'],\n",
              "       ['0.0', '1.0', '0.0', '1.0', '0.0', '1.0', '0.0', '9.0', '12.0',\n",
              "        '24832.0'],\n",
              "       ['0.0', '1.0', '0.0', '0.0', '1.0', '1.0', '0.0', '5.0', '18.0',\n",
              "        '25400.0'],\n",
              "       ['0.0', '1.0', '0.0', '1.0', '0.0', '1.0', '0.0', '11.0', '14.0',\n",
              "        '24800.0'],\n",
              "       ['1.0', '0.0', '0.0', '0.0', '1.0', '1.0', '0.0', '5.0', '16.0',\n",
              "        '25500.0'],\n",
              "       ['0.0', '1.0', '0.0', '1.0', '0.0', '0.0', '1.0', '3.0', '7.0',\n",
              "        '26182.0'],\n",
              "       ['0.0', '1.0', '0.0', '1.0', '0.0', '0.0', '1.0', '3.0', '17.0',\n",
              "        '23725.0'],\n",
              "       ['1.0', '0.0', '1.0', '0.0', '0.0', '0.0', '1.0', '10.0', '15.0',\n",
              "        '21600.0'],\n",
              "       ['0.0', '1.0', '0.0', '1.0', '0.0', '0.0', '1.0', '11.0', '31.0',\n",
              "        '23300.0'],\n",
              "       ['0.0', '1.0', '1.0', '0.0', '0.0', '0.0', '1.0', '9.0', '14.0',\n",
              "        '23713.0'],\n",
              "       ['1.0', '0.0', '0.0', '1.0', '0.0', '0.0', '1.0', '4.0', '33.0',\n",
              "        '20690.0'],\n",
              "       ['1.0', '0.0', '0.0', '1.0', '0.0', '0.0', '1.0', '6.0', '29.0',\n",
              "        '22450.0'],\n",
              "       ['0.0', '1.0', '0.0', '1.0', '0.0', '1.0', '0.0', '1.0', '9.0',\n",
              "        '20850.0'],\n",
              "       ['1.0', '0.0', '1.0', '0.0', '0.0', '1.0', '0.0', '8.0', '14.0',\n",
              "        '18304.0'],\n",
              "       ['0.0', '1.0', '1.0', '0.0', '0.0', '1.0', '0.0', '4.0', '4.0',\n",
              "        '17095.0'],\n",
              "       ['0.0', '1.0', '1.0', '0.0', '0.0', '1.0', '0.0', '4.0', '5.0',\n",
              "        '16700.0'],\n",
              "       ['0.0', '1.0', '1.0', '0.0', '0.0', '1.0', '0.0', '4.0', '4.0',\n",
              "        '17600.0'],\n",
              "       ['0.0', '1.0', '1.0', '0.0', '0.0', '1.0', '0.0', '3.0', '4.0',\n",
              "        '18075.0'],\n",
              "       ['0.0', '1.0', '1.0', '0.0', '0.0', '0.0', '1.0', '3.0', '11.0',\n",
              "        '18000.0'],\n",
              "       ['0.0', '1.0', '0.0', '1.0', '0.0', '1.0', '0.0', '0.0', '7.0',\n",
              "        '20999.0'],\n",
              "       ['1.0', '0.0', '1.0', '0.0', '0.0', '1.0', '0.0', '3.0', '3.0',\n",
              "        '17250.0'],\n",
              "       ['0.0', '1.0', '1.0', '0.0', '0.0', '1.0', '0.0', '2.0', '3.0',\n",
              "        '16500.0'],\n",
              "       ['0.0', '1.0', '1.0', '0.0', '0.0', '1.0', '0.0', '2.0', '1.0',\n",
              "        '16094.0'],\n",
              "       ['1.0', '0.0', '1.0', '0.0', '0.0', '1.0', '0.0', '2.0', '6.0',\n",
              "        '16150.0'],\n",
              "       ['1.0', '0.0', '1.0', '0.0', '0.0', '1.0', '0.0', '2.0', '2.0',\n",
              "        '15350.0'],\n",
              "       ['0.0', '1.0', '1.0', '0.0', '0.0', '1.0', '0.0', '1.0', '1.0',\n",
              "        '16244.0'],\n",
              "       ['1.0', '0.0', '1.0', '0.0', '0.0', '1.0', '0.0', '1.0', '1.0',\n",
              "        '16686.0'],\n",
              "       ['1.0', '0.0', '1.0', '0.0', '0.0', '1.0', '0.0', '1.0', '1.0',\n",
              "        '15000.0'],\n",
              "       ['1.0', '0.0', '1.0', '0.0', '0.0', '1.0', '0.0', '0.0', '2.0',\n",
              "        '20300.0']], dtype='<U32')"
            ]
          },
          "metadata": {
            "tags": []
          },
          "execution_count": 33
        }
      ]
    },
    {
      "cell_type": "code",
      "metadata": {
        "id": "S8xorVVlHR0y"
      },
      "source": [
        ""
      ],
      "execution_count": null,
      "outputs": []
    }
  ]
}