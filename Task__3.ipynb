{
  "nbformat": 4,
  "nbformat_minor": 0,
  "metadata": {
    "colab": {
      "name": "Task _3.ipynb",
      "provenance": [],
      "authorship_tag": "ABX9TyP140Ea/HckZlI3uzuVxD9d",
      "include_colab_link": true
    },
    "kernelspec": {
      "name": "python3",
      "display_name": "Python 3"
    },
    "language_info": {
      "name": "python"
    }
  },
  "cells": [
    {
      "cell_type": "markdown",
      "metadata": {
        "id": "view-in-github",
        "colab_type": "text"
      },
      "source": [
        "<a href=\"https://colab.research.google.com/github/thedeveshpareek/ML-Training-assignment/blob/main/Task__3.ipynb\" target=\"_parent\"><img src=\"https://colab.research.google.com/assets/colab-badge.svg\" alt=\"Open In Colab\"/></a>"
      ]
    },
    {
      "cell_type": "markdown",
      "metadata": {
        "id": "RKgjpstCzqqU"
      },
      "source": [
        "#go_stp_8589\n",
        "devesh pareek"
      ]
    },
    {
      "cell_type": "markdown",
      "metadata": {
        "id": "BJj8jREMzzaI"
      },
      "source": [
        "#Q1\n",
        "1 Write a Python Program to sort (ascending and descending) a dictionary by value. \n"
      ]
    },
    {
      "cell_type": "code",
      "metadata": {
        "colab": {
          "base_uri": "https://localhost:8080/"
        },
        "id": "J4qtNdhwrd9x",
        "outputId": "b5cb9178-3ede-4f6f-e8bb-d2f3d876ae1b"
      },
      "source": [
        "import operator\n",
        "x = {'A':5,'B':4,'C':2,'D':6,'E':3}\n",
        "asc = sorted(x.items(), key=operator.itemgetter(1))\n",
        "print('Ascending Order Is : ',asc)\n",
        "desc = sorted(x.items(), key=operator.itemgetter(1), reverse=True)\n",
        "print('Descending Order Is : ',desc)"
      ],
      "execution_count": 1,
      "outputs": [
        {
          "output_type": "stream",
          "text": [
            "Ascending Order Is :  [('C', 2), ('E', 3), ('B', 4), ('A', 5), ('D', 6)]\n",
            "Descending Order Is :  [('D', 6), ('A', 5), ('B', 4), ('E', 3), ('C', 2)]\n"
          ],
          "name": "stdout"
        }
      ]
    },
    {
      "cell_type": "markdown",
      "metadata": {
        "id": "NUc0VFZj0Lss"
      },
      "source": [
        "#2 Write a Python Program to add a key to a dictionary. \n"
      ]
    },
    {
      "cell_type": "code",
      "metadata": {
        "colab": {
          "base_uri": "https://localhost:8080/"
        },
        "id": "o5EtzDt60AVt",
        "outputId": "66abfc07-4770-4743-e78d-cb252ab3be52"
      },
      "source": [
        "x = {'A':5,'B':4,'C':2,'D':6,'E':3}\n",
        "x.update({'E':8})\n",
        "x"
      ],
      "execution_count": 2,
      "outputs": [
        {
          "output_type": "execute_result",
          "data": {
            "text/plain": [
              "{'A': 5, 'B': 4, 'C': 2, 'D': 6, 'E': 8}"
            ]
          },
          "metadata": {
            "tags": []
          },
          "execution_count": 2
        }
      ]
    },
    {
      "cell_type": "markdown",
      "metadata": {
        "id": "OOcrYgb20WoE"
      },
      "source": [
        "3 Write a  program asks for City name and Temperature and builds a dictionary using that Later on you can input City name and it will tell you the Temperature of that City.\n"
      ]
    },
    {
      "cell_type": "code",
      "metadata": {
        "colab": {
          "base_uri": "https://localhost:8080/"
        },
        "id": "bxdIyiH50R3D",
        "outputId": "43579387-627e-42c7-e27e-f84bfe803ed8"
      },
      "source": [
        "dic = dict()\n",
        "n = int(input('Enter The Number Of Cities : '))\n",
        "for i in range(n):\n",
        "  city = input('Enter A Name Of The City : ')\n",
        "  temp = int(input('Enter The Temperature In Celcious Of The City : '))\n",
        "  dic[city] = temp\n",
        "print('Created Dictionary Is : ',dic)\n",
        "city_name = input('Enter Name Of The City To Check Temperature Of It : ')\n",
        "print('Temperature Of The City Is : ',dic[city_name])"
      ],
      "execution_count": 3,
      "outputs": [
        {
          "output_type": "stream",
          "text": [
            "Enter The Number Of Cities : 4\n",
            "Enter A Name Of The City : sikar\n",
            "Enter The Temperature In Celcious Of The City : 40\n",
            "Enter A Name Of The City : jaipur\n",
            "Enter The Temperature In Celcious Of The City : 45\n",
            "Enter A Name Of The City : jodhpur\n",
            "Enter The Temperature In Celcious Of The City : 48\n",
            "Enter A Name Of The City : jaisalmer\n",
            "Enter The Temperature In Celcious Of The City : 45\n",
            "Created Dictionary Is :  {'sikar': 40, 'jaipur': 45, 'jodhpur': 48, 'jaisalmer': 45}\n",
            "Enter Name Of The City To Check Temperature Of It : jaisalmer\n",
            "Temperature Of The City Is :  45\n"
          ],
          "name": "stdout"
        }
      ]
    },
    {
      "cell_type": "markdown",
      "metadata": {
        "id": "7NijFM6E04t7"
      },
      "source": [
        "#4.Write a Python program to convert list to list of dictionaries.\n"
      ]
    },
    {
      "cell_type": "code",
      "metadata": {
        "colab": {
          "base_uri": "https://localhost:8080/"
        },
        "id": "v7CK2jo90cKK",
        "outputId": "abb3f7a4-eabb-4376-f0b6-53bf884be12d"
      },
      "source": [
        "list1 = [\"Sathya\",\"Yuvi\",\"Sathish\",\"Vignesh\",\"Prakash\",]\n",
        "list2 = [23,26,24,22,23]\n",
        "print([{'Name': f, 'Age': c} for f, c in zip(list1, list2)])"
      ],
      "execution_count": 4,
      "outputs": [
        {
          "output_type": "stream",
          "text": [
            "[{'Name': 'Sathya', 'Age': 23}, {'Name': 'Yuvi', 'Age': 26}, {'Name': 'Sathish', 'Age': 24}, {'Name': 'Vignesh', 'Age': 22}, {'Name': 'Prakash', 'Age': 23}]\n"
          ],
          "name": "stdout"
        }
      ]
    },
    {
      "cell_type": "markdown",
      "metadata": {
        "id": "HvG65KXM26Ij"
      },
      "source": [
        "#5 We have following information on Employees and their Salary (Salary is in lakhs),\n"
      ]
    },
    {
      "cell_type": "code",
      "metadata": {
        "colab": {
          "base_uri": "https://localhost:8080/"
        },
        "id": "rewzS__c1HIm",
        "outputId": "9f577747-2456-40f5-ef27-00b2d307aaf9"
      },
      "source": [
        "data = {'John':1400000, 'Smith':1300000, 'Alice':3200000, 'Daniel':3200000}\n",
        "print('Data Of Employee And Their Salaries')\n",
        "user_input = input('What Do You Want With This Data (Print\\Add\\Remove\\Query) : '.title())\n",
        "if user_input=='Print':\n",
        "  for i in data.items():\n",
        "    print(i[0],'==>',i[1])\n",
        "elif user_input == 'Add':\n",
        "  new_name = input('Enter A Name Of New Employee : ')\n",
        "  if new_name in data.keys():\n",
        "    print('This Name Is Already In Data')\n",
        "  else:\n",
        "    new_sal = int(input('Enter The Salary Of Employee : '))\n",
        "    data[new_name]=new_sal\n",
        "    for j in data.items():\n",
        "      print(j[0],'==>',j[1])\n",
        "elif user_input == 'Remove':\n",
        "  rem = input('Enter A Employee Name To Remove : ')\n",
        "  if rem in data:\n",
        "    del data[rem]\n",
        "    for k in data.items():\n",
        "      print(k[0],'==>',k[1])\n",
        "  else:\n",
        "    print('Employee Does Not Exist')\n",
        "elif user_input == 'Query':\n",
        "  quer = input('Enter The Name Of The Employee Wants To Query')\n",
        "  if quer in data:\n",
        "    print(data[quer])\n",
        "  else:\n",
        "    print('The Name Does Not Exist')\n",
        "else:\n",
        "  print('Enter Only Valid Input')"
      ],
      "execution_count": 7,
      "outputs": [
        {
          "output_type": "stream",
          "text": [
            "Data Of Employee And Their Salaries\n",
            "What Do You Want With This Data (Print\\Add\\Remove\\Query) : Print\n",
            "John ==> 1400000\n",
            "Smith ==> 1300000\n",
            "Alice ==> 3200000\n",
            "Daniel ==> 3200000\n"
          ],
          "name": "stdout"
        }
      ]
    },
    {
      "cell_type": "markdown",
      "metadata": {
        "id": "ddNTo1Ci3hnE"
      },
      "source": [
        "#Question on sets\n"
      ]
    },
    {
      "cell_type": "markdown",
      "metadata": {
        "id": "J4AiFp0t3mcU"
      },
      "source": [
        " Q.1 What is the difference between a set and a frozenset? Create any set and try to use frozenset(setname)."
      ]
    },
    {
      "cell_type": "code",
      "metadata": {
        "colab": {
          "base_uri": "https://localhost:8080/",
          "height": 229
        },
        "id": "FY1WBFM-3A3Z",
        "outputId": "d426ef7d-3d5f-4e60-d4f5-2ae6ab4500b9"
      },
      "source": [
        "\n",
        "vowels = ('a', 'e', 'i', 'o', 'u')\n",
        "fSet = frozenset(vowels)\n",
        "print('The frozen set is:', fSet)\n",
        "print('The empty frozen set is:', frozenset())\n",
        "fSet.add('v')"
      ],
      "execution_count": 8,
      "outputs": [
        {
          "output_type": "stream",
          "text": [
            "The frozen set is: frozenset({'a', 'e', 'i', 'u', 'o'})\n",
            "The empty frozen set is: frozenset()\n"
          ],
          "name": "stdout"
        },
        {
          "output_type": "error",
          "ename": "AttributeError",
          "evalue": "ignored",
          "traceback": [
            "\u001b[0;31m---------------------------------------------------------------------------\u001b[0m",
            "\u001b[0;31mAttributeError\u001b[0m                            Traceback (most recent call last)",
            "\u001b[0;32m<ipython-input-8-78fb5b38beb1>\u001b[0m in \u001b[0;36m<module>\u001b[0;34m()\u001b[0m\n\u001b[1;32m      4\u001b[0m \u001b[0mprint\u001b[0m\u001b[0;34m(\u001b[0m\u001b[0;34m'The frozen set is:'\u001b[0m\u001b[0;34m,\u001b[0m \u001b[0mfSet\u001b[0m\u001b[0;34m)\u001b[0m\u001b[0;34m\u001b[0m\u001b[0;34m\u001b[0m\u001b[0m\n\u001b[1;32m      5\u001b[0m \u001b[0mprint\u001b[0m\u001b[0;34m(\u001b[0m\u001b[0;34m'The empty frozen set is:'\u001b[0m\u001b[0;34m,\u001b[0m \u001b[0mfrozenset\u001b[0m\u001b[0;34m(\u001b[0m\u001b[0;34m)\u001b[0m\u001b[0;34m)\u001b[0m\u001b[0;34m\u001b[0m\u001b[0;34m\u001b[0m\u001b[0m\n\u001b[0;32m----> 6\u001b[0;31m \u001b[0mfSet\u001b[0m\u001b[0;34m.\u001b[0m\u001b[0madd\u001b[0m\u001b[0;34m(\u001b[0m\u001b[0;34m'v'\u001b[0m\u001b[0;34m)\u001b[0m\u001b[0;34m\u001b[0m\u001b[0;34m\u001b[0m\u001b[0m\n\u001b[0m",
            "\u001b[0;31mAttributeError\u001b[0m: 'frozenset' object has no attribute 'add'"
          ]
        }
      ]
    },
    {
      "cell_type": "markdown",
      "metadata": {
        "id": "xc6CdX5L3zqH"
      },
      "source": [
        "Q.2 Find the elements in a given set that are not in another set\n",
        "\n",
        "    set1 = {10,20,30,40,50}\n",
        "\n",
        "    set2 = {40,50,60,70,80}\n",
        "\n",
        " Difference between set1 and set2 is {10,20,30}"
      ]
    },
    {
      "cell_type": "code",
      "metadata": {
        "colab": {
          "base_uri": "https://localhost:8080/"
        },
        "id": "bBy2ltqE3t-6",
        "outputId": "739c89f2-7ac5-4578-96b8-f0744eb55e4b"
      },
      "source": [
        "set1 = {10,20,30,40,50}\n",
        "set2 = {40,50,60,70,80}\n",
        "print(set1.difference(set2))\n"
      ],
      "execution_count": 9,
      "outputs": [
        {
          "output_type": "stream",
          "text": [
            "{10, 20, 30}\n"
          ],
          "name": "stdout"
        }
      ]
    },
    {
      "cell_type": "code",
      "metadata": {
        "id": "CW2BXi7T4Q-h"
      },
      "source": [
        ""
      ],
      "execution_count": null,
      "outputs": []
    }
  ]
}